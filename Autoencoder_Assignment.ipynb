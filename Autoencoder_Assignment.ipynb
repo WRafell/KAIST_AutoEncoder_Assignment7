{
  "nbformat": 4,
  "nbformat_minor": 0,
  "metadata": {
    "colab": {
      "name": "KSE643_HW7.ipynb",
      "provenance": [],
      "collapsed_sections": [],
      "toc_visible": true
    },
    "kernelspec": {
      "name": "python3",
      "display_name": "Python 3"
    },
    "accelerator": "GPU"
  },
  "cells": [
    {
      "cell_type": "markdown",
      "metadata": {
        "id": "N0JJ3kAmGY1c"
      },
      "source": [
        "## AutoEncoder Assignment"
      ]
    },
    {
      "cell_type": "markdown",
      "metadata": {
        "id": "gNEWcAkDmASm"
      },
      "source": [
        "Willmer R. Quiñones"
      ]
    },
    {
      "cell_type": "markdown",
      "metadata": {
        "id": "3XNcJW04dDNc"
      },
      "source": [
        "### Download the data from the webpage and unzip it"
      ]
    },
    {
      "cell_type": "code",
      "metadata": {
        "id": "Oig9biWPaK5T",
        "colab": {
          "base_uri": "https://localhost:8080/"
        },
        "outputId": "836c8117-c97c-46f1-b515-d8037003bda5"
      },
      "source": [
        "import urllib.request\n",
        "url = 'http://files.grouplens.org/datasets/movielens/ml-100k.zip'\n",
        "urllib.request.urlretrieve(url, 'ml-100k.zip')  "
      ],
      "execution_count": 1,
      "outputs": [
        {
          "output_type": "execute_result",
          "data": {
            "text/plain": [
              "('ml-100k.zip', <http.client.HTTPMessage at 0x7f0190ae21d0>)"
            ]
          },
          "metadata": {
            "tags": []
          },
          "execution_count": 1
        }
      ]
    },
    {
      "cell_type": "code",
      "metadata": {
        "id": "aVnazy5SbQWw",
        "colab": {
          "base_uri": "https://localhost:8080/"
        },
        "outputId": "521c0593-e8c3-40c7-dc5b-cf1ee45d9118"
      },
      "source": [
        "!apt-get install p7zip-full\n",
        "!unzip ml-100k.zip"
      ],
      "execution_count": 2,
      "outputs": [
        {
          "output_type": "stream",
          "text": [
            "Reading package lists... Done\n",
            "Building dependency tree       \n",
            "Reading state information... Done\n",
            "p7zip-full is already the newest version (16.02+dfsg-6).\n",
            "0 upgraded, 0 newly installed, 0 to remove and 15 not upgraded.\n",
            "Archive:  ml-100k.zip\n",
            "   creating: ml-100k/\n",
            "  inflating: ml-100k/allbut.pl       \n",
            "  inflating: ml-100k/mku.sh          \n",
            "  inflating: ml-100k/README          \n",
            "  inflating: ml-100k/u.data          \n",
            "  inflating: ml-100k/u.genre         \n",
            "  inflating: ml-100k/u.info          \n",
            "  inflating: ml-100k/u.item          \n",
            "  inflating: ml-100k/u.occupation    \n",
            "  inflating: ml-100k/u.user          \n",
            "  inflating: ml-100k/u1.base         \n",
            "  inflating: ml-100k/u1.test         \n",
            "  inflating: ml-100k/u2.base         \n",
            "  inflating: ml-100k/u2.test         \n",
            "  inflating: ml-100k/u3.base         \n",
            "  inflating: ml-100k/u3.test         \n",
            "  inflating: ml-100k/u4.base         \n",
            "  inflating: ml-100k/u4.test         \n",
            "  inflating: ml-100k/u5.base         \n",
            "  inflating: ml-100k/u5.test         \n",
            "  inflating: ml-100k/ua.base         \n",
            "  inflating: ml-100k/ua.test         \n",
            "  inflating: ml-100k/ub.base         \n",
            "  inflating: ml-100k/ub.test         \n"
          ],
          "name": "stdout"
        }
      ]
    },
    {
      "cell_type": "markdown",
      "metadata": {
        "id": "T_h3au4IdPgX"
      },
      "source": [
        "### Reading the datasets:\n",
        "##### u.data and u.item"
      ]
    },
    {
      "cell_type": "code",
      "metadata": {
        "id": "coreorGHcKRv"
      },
      "source": [
        "import os, copy\n",
        "import numpy as np\n",
        "import pandas as pd\n",
        "\n",
        "pd.options.mode.chained_assignment = None  # default='warn'"
      ],
      "execution_count": 3,
      "outputs": []
    },
    {
      "cell_type": "code",
      "metadata": {
        "id": "ZW0Z1szVdUm9"
      },
      "source": [
        "data = pd.read_csv('ml-100k/u.data', sep=\"\\t\", header=None)\n",
        "data.columns =['user_id', 'item_id', 'rating', 'timestamp']\n",
        "\n",
        "item = pd.read_csv('ml-100k/u.item', sep=\"|\", header=None, encoding='latin-1')\n",
        "item.columns =['item_id', 'title', 'release_date', 'video_release_date', 'imdb_url', 'unknown', 'action', \n",
        "               'adventure', 'animation', 'children', 'comedy', 'crime', 'documentary', 'drama', 'fantasy', 'film_noir', \n",
        "               'horror', 'musical', 'mystery', 'romance', 'sci_fi', 'thriller', 'war', 'western']\n",
        "df = data.pivot(index = 'user_id', columns = 'item_id', values = 'rating')"
      ],
      "execution_count": 4,
      "outputs": []
    },
    {
      "cell_type": "code",
      "metadata": {
        "id": "BAhbEbR-f9tk",
        "colab": {
          "base_uri": "https://localhost:8080/"
        },
        "outputId": "13b6df1e-3c94-4191-de9a-c90f2c2450cd"
      },
      "source": [
        "# Checking the size of data\n",
        "## Number of rows should be equal to number of users and number of columns should be equal to number of items\n",
        "df.shape[0] == len(set(data['user_id'].tolist())) and df.shape[1] == len(item['item_id'].tolist())"
      ],
      "execution_count": 5,
      "outputs": [
        {
          "output_type": "execute_result",
          "data": {
            "text/plain": [
              "True"
            ]
          },
          "metadata": {
            "tags": []
          },
          "execution_count": 5
        }
      ]
    },
    {
      "cell_type": "code",
      "metadata": {
        "id": "QEwQ88lejWub",
        "colab": {
          "base_uri": "https://localhost:8080/"
        },
        "outputId": "7dd0e077-ffc7-4002-ec99-e24b2565784e"
      },
      "source": [
        "number_of_users = len(df)\n",
        "print(f\"There are {number_of_users} users\")"
      ],
      "execution_count": 6,
      "outputs": [
        {
          "output_type": "stream",
          "text": [
            "There are 943 users\n"
          ],
          "name": "stdout"
        }
      ]
    },
    {
      "cell_type": "markdown",
      "metadata": {
        "id": "ba--IRA4eMtz"
      },
      "source": [
        "### Spliting the dataset"
      ]
    },
    {
      "cell_type": "markdown",
      "metadata": {
        "id": "p2gQ02ogeTIk"
      },
      "source": [
        "#### Split by movies"
      ]
    },
    {
      "cell_type": "code",
      "metadata": {
        "id": "VAd5EXY4fs7x"
      },
      "source": [
        "df = df.fillna(0)\n",
        "df.columns.name = None"
      ],
      "execution_count": 7,
      "outputs": []
    },
    {
      "cell_type": "markdown",
      "metadata": {
        "id": "P2blKzqukvJi"
      },
      "source": [
        "Before building the autoencoder, usually machine learning models work better with normalized data; hence I use min-max to normalize all the ratings in the dataset (I could have use norm-L2, but by using min-max, it’d be easy to get the real values back)."
      ]
    },
    {
      "cell_type": "code",
      "metadata": {
        "id": "RQ2iz6cRF7_V"
      },
      "source": [
        "### Normalizing the data (min-max normalization)\n",
        "### min being 0 and max being 5\n",
        "df_backup = df.copy()\n",
        "df_values = df.values\n",
        "df[df.columns] = df_values/5"
      ],
      "execution_count": 8,
      "outputs": []
    },
    {
      "cell_type": "code",
      "metadata": {
        "id": "zBFTuHv2HH-g",
        "colab": {
          "base_uri": "https://localhost:8080/",
          "height": 284
        },
        "outputId": "1ded85c3-3377-47c3-be30-1529d595490a"
      },
      "source": [
        "df.head(5)"
      ],
      "execution_count": 9,
      "outputs": [
        {
          "output_type": "execute_result",
          "data": {
            "text/html": [
              "<div>\n",
              "<style scoped>\n",
              "    .dataframe tbody tr th:only-of-type {\n",
              "        vertical-align: middle;\n",
              "    }\n",
              "\n",
              "    .dataframe tbody tr th {\n",
              "        vertical-align: top;\n",
              "    }\n",
              "\n",
              "    .dataframe thead th {\n",
              "        text-align: right;\n",
              "    }\n",
              "</style>\n",
              "<table border=\"1\" class=\"dataframe\">\n",
              "  <thead>\n",
              "    <tr style=\"text-align: right;\">\n",
              "      <th></th>\n",
              "      <th>1</th>\n",
              "      <th>2</th>\n",
              "      <th>3</th>\n",
              "      <th>4</th>\n",
              "      <th>5</th>\n",
              "      <th>6</th>\n",
              "      <th>7</th>\n",
              "      <th>8</th>\n",
              "      <th>9</th>\n",
              "      <th>10</th>\n",
              "      <th>11</th>\n",
              "      <th>12</th>\n",
              "      <th>13</th>\n",
              "      <th>14</th>\n",
              "      <th>15</th>\n",
              "      <th>16</th>\n",
              "      <th>17</th>\n",
              "      <th>18</th>\n",
              "      <th>19</th>\n",
              "      <th>20</th>\n",
              "      <th>21</th>\n",
              "      <th>22</th>\n",
              "      <th>23</th>\n",
              "      <th>24</th>\n",
              "      <th>25</th>\n",
              "      <th>26</th>\n",
              "      <th>27</th>\n",
              "      <th>28</th>\n",
              "      <th>29</th>\n",
              "      <th>30</th>\n",
              "      <th>31</th>\n",
              "      <th>32</th>\n",
              "      <th>33</th>\n",
              "      <th>34</th>\n",
              "      <th>35</th>\n",
              "      <th>36</th>\n",
              "      <th>37</th>\n",
              "      <th>38</th>\n",
              "      <th>39</th>\n",
              "      <th>40</th>\n",
              "      <th>...</th>\n",
              "      <th>1643</th>\n",
              "      <th>1644</th>\n",
              "      <th>1645</th>\n",
              "      <th>1646</th>\n",
              "      <th>1647</th>\n",
              "      <th>1648</th>\n",
              "      <th>1649</th>\n",
              "      <th>1650</th>\n",
              "      <th>1651</th>\n",
              "      <th>1652</th>\n",
              "      <th>1653</th>\n",
              "      <th>1654</th>\n",
              "      <th>1655</th>\n",
              "      <th>1656</th>\n",
              "      <th>1657</th>\n",
              "      <th>1658</th>\n",
              "      <th>1659</th>\n",
              "      <th>1660</th>\n",
              "      <th>1661</th>\n",
              "      <th>1662</th>\n",
              "      <th>1663</th>\n",
              "      <th>1664</th>\n",
              "      <th>1665</th>\n",
              "      <th>1666</th>\n",
              "      <th>1667</th>\n",
              "      <th>1668</th>\n",
              "      <th>1669</th>\n",
              "      <th>1670</th>\n",
              "      <th>1671</th>\n",
              "      <th>1672</th>\n",
              "      <th>1673</th>\n",
              "      <th>1674</th>\n",
              "      <th>1675</th>\n",
              "      <th>1676</th>\n",
              "      <th>1677</th>\n",
              "      <th>1678</th>\n",
              "      <th>1679</th>\n",
              "      <th>1680</th>\n",
              "      <th>1681</th>\n",
              "      <th>1682</th>\n",
              "    </tr>\n",
              "    <tr>\n",
              "      <th>user_id</th>\n",
              "      <th></th>\n",
              "      <th></th>\n",
              "      <th></th>\n",
              "      <th></th>\n",
              "      <th></th>\n",
              "      <th></th>\n",
              "      <th></th>\n",
              "      <th></th>\n",
              "      <th></th>\n",
              "      <th></th>\n",
              "      <th></th>\n",
              "      <th></th>\n",
              "      <th></th>\n",
              "      <th></th>\n",
              "      <th></th>\n",
              "      <th></th>\n",
              "      <th></th>\n",
              "      <th></th>\n",
              "      <th></th>\n",
              "      <th></th>\n",
              "      <th></th>\n",
              "      <th></th>\n",
              "      <th></th>\n",
              "      <th></th>\n",
              "      <th></th>\n",
              "      <th></th>\n",
              "      <th></th>\n",
              "      <th></th>\n",
              "      <th></th>\n",
              "      <th></th>\n",
              "      <th></th>\n",
              "      <th></th>\n",
              "      <th></th>\n",
              "      <th></th>\n",
              "      <th></th>\n",
              "      <th></th>\n",
              "      <th></th>\n",
              "      <th></th>\n",
              "      <th></th>\n",
              "      <th></th>\n",
              "      <th></th>\n",
              "      <th></th>\n",
              "      <th></th>\n",
              "      <th></th>\n",
              "      <th></th>\n",
              "      <th></th>\n",
              "      <th></th>\n",
              "      <th></th>\n",
              "      <th></th>\n",
              "      <th></th>\n",
              "      <th></th>\n",
              "      <th></th>\n",
              "      <th></th>\n",
              "      <th></th>\n",
              "      <th></th>\n",
              "      <th></th>\n",
              "      <th></th>\n",
              "      <th></th>\n",
              "      <th></th>\n",
              "      <th></th>\n",
              "      <th></th>\n",
              "      <th></th>\n",
              "      <th></th>\n",
              "      <th></th>\n",
              "      <th></th>\n",
              "      <th></th>\n",
              "      <th></th>\n",
              "      <th></th>\n",
              "      <th></th>\n",
              "      <th></th>\n",
              "      <th></th>\n",
              "      <th></th>\n",
              "      <th></th>\n",
              "      <th></th>\n",
              "      <th></th>\n",
              "      <th></th>\n",
              "      <th></th>\n",
              "      <th></th>\n",
              "      <th></th>\n",
              "      <th></th>\n",
              "      <th></th>\n",
              "    </tr>\n",
              "  </thead>\n",
              "  <tbody>\n",
              "    <tr>\n",
              "      <th>1</th>\n",
              "      <td>1.0</td>\n",
              "      <td>0.6</td>\n",
              "      <td>0.8</td>\n",
              "      <td>0.6</td>\n",
              "      <td>0.6</td>\n",
              "      <td>1.0</td>\n",
              "      <td>0.8</td>\n",
              "      <td>0.2</td>\n",
              "      <td>1.0</td>\n",
              "      <td>0.6</td>\n",
              "      <td>0.4</td>\n",
              "      <td>1.0</td>\n",
              "      <td>1.0</td>\n",
              "      <td>1.0</td>\n",
              "      <td>1.0</td>\n",
              "      <td>1.0</td>\n",
              "      <td>0.6</td>\n",
              "      <td>0.8</td>\n",
              "      <td>1.0</td>\n",
              "      <td>0.8</td>\n",
              "      <td>0.2</td>\n",
              "      <td>0.8</td>\n",
              "      <td>0.8</td>\n",
              "      <td>0.6</td>\n",
              "      <td>0.8</td>\n",
              "      <td>0.6</td>\n",
              "      <td>0.4</td>\n",
              "      <td>0.8</td>\n",
              "      <td>0.2</td>\n",
              "      <td>0.6</td>\n",
              "      <td>0.6</td>\n",
              "      <td>1.0</td>\n",
              "      <td>0.8</td>\n",
              "      <td>0.4</td>\n",
              "      <td>0.2</td>\n",
              "      <td>0.4</td>\n",
              "      <td>0.4</td>\n",
              "      <td>0.6</td>\n",
              "      <td>0.8</td>\n",
              "      <td>0.6</td>\n",
              "      <td>...</td>\n",
              "      <td>0.0</td>\n",
              "      <td>0.0</td>\n",
              "      <td>0.0</td>\n",
              "      <td>0.0</td>\n",
              "      <td>0.0</td>\n",
              "      <td>0.0</td>\n",
              "      <td>0.0</td>\n",
              "      <td>0.0</td>\n",
              "      <td>0.0</td>\n",
              "      <td>0.0</td>\n",
              "      <td>0.0</td>\n",
              "      <td>0.0</td>\n",
              "      <td>0.0</td>\n",
              "      <td>0.0</td>\n",
              "      <td>0.0</td>\n",
              "      <td>0.0</td>\n",
              "      <td>0.0</td>\n",
              "      <td>0.0</td>\n",
              "      <td>0.0</td>\n",
              "      <td>0.0</td>\n",
              "      <td>0.0</td>\n",
              "      <td>0.0</td>\n",
              "      <td>0.0</td>\n",
              "      <td>0.0</td>\n",
              "      <td>0.0</td>\n",
              "      <td>0.0</td>\n",
              "      <td>0.0</td>\n",
              "      <td>0.0</td>\n",
              "      <td>0.0</td>\n",
              "      <td>0.0</td>\n",
              "      <td>0.0</td>\n",
              "      <td>0.0</td>\n",
              "      <td>0.0</td>\n",
              "      <td>0.0</td>\n",
              "      <td>0.0</td>\n",
              "      <td>0.0</td>\n",
              "      <td>0.0</td>\n",
              "      <td>0.0</td>\n",
              "      <td>0.0</td>\n",
              "      <td>0.0</td>\n",
              "    </tr>\n",
              "    <tr>\n",
              "      <th>2</th>\n",
              "      <td>0.8</td>\n",
              "      <td>0.0</td>\n",
              "      <td>0.0</td>\n",
              "      <td>0.0</td>\n",
              "      <td>0.0</td>\n",
              "      <td>0.0</td>\n",
              "      <td>0.0</td>\n",
              "      <td>0.0</td>\n",
              "      <td>0.0</td>\n",
              "      <td>0.4</td>\n",
              "      <td>0.0</td>\n",
              "      <td>0.0</td>\n",
              "      <td>0.8</td>\n",
              "      <td>0.8</td>\n",
              "      <td>0.0</td>\n",
              "      <td>0.0</td>\n",
              "      <td>0.0</td>\n",
              "      <td>0.0</td>\n",
              "      <td>0.6</td>\n",
              "      <td>0.0</td>\n",
              "      <td>0.0</td>\n",
              "      <td>0.0</td>\n",
              "      <td>0.0</td>\n",
              "      <td>0.0</td>\n",
              "      <td>0.8</td>\n",
              "      <td>0.0</td>\n",
              "      <td>0.0</td>\n",
              "      <td>0.0</td>\n",
              "      <td>0.0</td>\n",
              "      <td>0.0</td>\n",
              "      <td>0.0</td>\n",
              "      <td>0.0</td>\n",
              "      <td>0.0</td>\n",
              "      <td>0.0</td>\n",
              "      <td>0.0</td>\n",
              "      <td>0.0</td>\n",
              "      <td>0.0</td>\n",
              "      <td>0.0</td>\n",
              "      <td>0.0</td>\n",
              "      <td>0.0</td>\n",
              "      <td>...</td>\n",
              "      <td>0.0</td>\n",
              "      <td>0.0</td>\n",
              "      <td>0.0</td>\n",
              "      <td>0.0</td>\n",
              "      <td>0.0</td>\n",
              "      <td>0.0</td>\n",
              "      <td>0.0</td>\n",
              "      <td>0.0</td>\n",
              "      <td>0.0</td>\n",
              "      <td>0.0</td>\n",
              "      <td>0.0</td>\n",
              "      <td>0.0</td>\n",
              "      <td>0.0</td>\n",
              "      <td>0.0</td>\n",
              "      <td>0.0</td>\n",
              "      <td>0.0</td>\n",
              "      <td>0.0</td>\n",
              "      <td>0.0</td>\n",
              "      <td>0.0</td>\n",
              "      <td>0.0</td>\n",
              "      <td>0.0</td>\n",
              "      <td>0.0</td>\n",
              "      <td>0.0</td>\n",
              "      <td>0.0</td>\n",
              "      <td>0.0</td>\n",
              "      <td>0.0</td>\n",
              "      <td>0.0</td>\n",
              "      <td>0.0</td>\n",
              "      <td>0.0</td>\n",
              "      <td>0.0</td>\n",
              "      <td>0.0</td>\n",
              "      <td>0.0</td>\n",
              "      <td>0.0</td>\n",
              "      <td>0.0</td>\n",
              "      <td>0.0</td>\n",
              "      <td>0.0</td>\n",
              "      <td>0.0</td>\n",
              "      <td>0.0</td>\n",
              "      <td>0.0</td>\n",
              "      <td>0.0</td>\n",
              "    </tr>\n",
              "    <tr>\n",
              "      <th>3</th>\n",
              "      <td>0.0</td>\n",
              "      <td>0.0</td>\n",
              "      <td>0.0</td>\n",
              "      <td>0.0</td>\n",
              "      <td>0.0</td>\n",
              "      <td>0.0</td>\n",
              "      <td>0.0</td>\n",
              "      <td>0.0</td>\n",
              "      <td>0.0</td>\n",
              "      <td>0.0</td>\n",
              "      <td>0.0</td>\n",
              "      <td>0.0</td>\n",
              "      <td>0.0</td>\n",
              "      <td>0.0</td>\n",
              "      <td>0.0</td>\n",
              "      <td>0.0</td>\n",
              "      <td>0.0</td>\n",
              "      <td>0.0</td>\n",
              "      <td>0.0</td>\n",
              "      <td>0.0</td>\n",
              "      <td>0.0</td>\n",
              "      <td>0.0</td>\n",
              "      <td>0.0</td>\n",
              "      <td>0.0</td>\n",
              "      <td>0.0</td>\n",
              "      <td>0.0</td>\n",
              "      <td>0.0</td>\n",
              "      <td>0.0</td>\n",
              "      <td>0.0</td>\n",
              "      <td>0.0</td>\n",
              "      <td>0.0</td>\n",
              "      <td>0.0</td>\n",
              "      <td>0.0</td>\n",
              "      <td>0.0</td>\n",
              "      <td>0.0</td>\n",
              "      <td>0.0</td>\n",
              "      <td>0.0</td>\n",
              "      <td>0.0</td>\n",
              "      <td>0.0</td>\n",
              "      <td>0.0</td>\n",
              "      <td>...</td>\n",
              "      <td>0.0</td>\n",
              "      <td>0.0</td>\n",
              "      <td>0.0</td>\n",
              "      <td>0.0</td>\n",
              "      <td>0.0</td>\n",
              "      <td>0.0</td>\n",
              "      <td>0.0</td>\n",
              "      <td>0.0</td>\n",
              "      <td>0.0</td>\n",
              "      <td>0.0</td>\n",
              "      <td>0.0</td>\n",
              "      <td>0.0</td>\n",
              "      <td>0.0</td>\n",
              "      <td>0.0</td>\n",
              "      <td>0.0</td>\n",
              "      <td>0.0</td>\n",
              "      <td>0.0</td>\n",
              "      <td>0.0</td>\n",
              "      <td>0.0</td>\n",
              "      <td>0.0</td>\n",
              "      <td>0.0</td>\n",
              "      <td>0.0</td>\n",
              "      <td>0.0</td>\n",
              "      <td>0.0</td>\n",
              "      <td>0.0</td>\n",
              "      <td>0.0</td>\n",
              "      <td>0.0</td>\n",
              "      <td>0.0</td>\n",
              "      <td>0.0</td>\n",
              "      <td>0.0</td>\n",
              "      <td>0.0</td>\n",
              "      <td>0.0</td>\n",
              "      <td>0.0</td>\n",
              "      <td>0.0</td>\n",
              "      <td>0.0</td>\n",
              "      <td>0.0</td>\n",
              "      <td>0.0</td>\n",
              "      <td>0.0</td>\n",
              "      <td>0.0</td>\n",
              "      <td>0.0</td>\n",
              "    </tr>\n",
              "    <tr>\n",
              "      <th>4</th>\n",
              "      <td>0.0</td>\n",
              "      <td>0.0</td>\n",
              "      <td>0.0</td>\n",
              "      <td>0.0</td>\n",
              "      <td>0.0</td>\n",
              "      <td>0.0</td>\n",
              "      <td>0.0</td>\n",
              "      <td>0.0</td>\n",
              "      <td>0.0</td>\n",
              "      <td>0.0</td>\n",
              "      <td>0.8</td>\n",
              "      <td>0.0</td>\n",
              "      <td>0.0</td>\n",
              "      <td>0.0</td>\n",
              "      <td>0.0</td>\n",
              "      <td>0.0</td>\n",
              "      <td>0.0</td>\n",
              "      <td>0.0</td>\n",
              "      <td>0.0</td>\n",
              "      <td>0.0</td>\n",
              "      <td>0.0</td>\n",
              "      <td>0.0</td>\n",
              "      <td>0.0</td>\n",
              "      <td>0.0</td>\n",
              "      <td>0.0</td>\n",
              "      <td>0.0</td>\n",
              "      <td>0.0</td>\n",
              "      <td>0.0</td>\n",
              "      <td>0.0</td>\n",
              "      <td>0.0</td>\n",
              "      <td>0.0</td>\n",
              "      <td>0.0</td>\n",
              "      <td>0.0</td>\n",
              "      <td>0.0</td>\n",
              "      <td>0.0</td>\n",
              "      <td>0.0</td>\n",
              "      <td>0.0</td>\n",
              "      <td>0.0</td>\n",
              "      <td>0.0</td>\n",
              "      <td>0.0</td>\n",
              "      <td>...</td>\n",
              "      <td>0.0</td>\n",
              "      <td>0.0</td>\n",
              "      <td>0.0</td>\n",
              "      <td>0.0</td>\n",
              "      <td>0.0</td>\n",
              "      <td>0.0</td>\n",
              "      <td>0.0</td>\n",
              "      <td>0.0</td>\n",
              "      <td>0.0</td>\n",
              "      <td>0.0</td>\n",
              "      <td>0.0</td>\n",
              "      <td>0.0</td>\n",
              "      <td>0.0</td>\n",
              "      <td>0.0</td>\n",
              "      <td>0.0</td>\n",
              "      <td>0.0</td>\n",
              "      <td>0.0</td>\n",
              "      <td>0.0</td>\n",
              "      <td>0.0</td>\n",
              "      <td>0.0</td>\n",
              "      <td>0.0</td>\n",
              "      <td>0.0</td>\n",
              "      <td>0.0</td>\n",
              "      <td>0.0</td>\n",
              "      <td>0.0</td>\n",
              "      <td>0.0</td>\n",
              "      <td>0.0</td>\n",
              "      <td>0.0</td>\n",
              "      <td>0.0</td>\n",
              "      <td>0.0</td>\n",
              "      <td>0.0</td>\n",
              "      <td>0.0</td>\n",
              "      <td>0.0</td>\n",
              "      <td>0.0</td>\n",
              "      <td>0.0</td>\n",
              "      <td>0.0</td>\n",
              "      <td>0.0</td>\n",
              "      <td>0.0</td>\n",
              "      <td>0.0</td>\n",
              "      <td>0.0</td>\n",
              "    </tr>\n",
              "    <tr>\n",
              "      <th>5</th>\n",
              "      <td>0.8</td>\n",
              "      <td>0.6</td>\n",
              "      <td>0.0</td>\n",
              "      <td>0.0</td>\n",
              "      <td>0.0</td>\n",
              "      <td>0.0</td>\n",
              "      <td>0.0</td>\n",
              "      <td>0.0</td>\n",
              "      <td>0.0</td>\n",
              "      <td>0.0</td>\n",
              "      <td>0.0</td>\n",
              "      <td>0.0</td>\n",
              "      <td>0.0</td>\n",
              "      <td>0.0</td>\n",
              "      <td>0.0</td>\n",
              "      <td>0.0</td>\n",
              "      <td>0.8</td>\n",
              "      <td>0.0</td>\n",
              "      <td>0.0</td>\n",
              "      <td>0.0</td>\n",
              "      <td>0.6</td>\n",
              "      <td>0.0</td>\n",
              "      <td>0.0</td>\n",
              "      <td>0.8</td>\n",
              "      <td>0.6</td>\n",
              "      <td>0.0</td>\n",
              "      <td>0.0</td>\n",
              "      <td>0.0</td>\n",
              "      <td>0.8</td>\n",
              "      <td>0.0</td>\n",
              "      <td>0.0</td>\n",
              "      <td>0.0</td>\n",
              "      <td>0.0</td>\n",
              "      <td>0.0</td>\n",
              "      <td>0.0</td>\n",
              "      <td>0.0</td>\n",
              "      <td>0.0</td>\n",
              "      <td>0.0</td>\n",
              "      <td>0.0</td>\n",
              "      <td>0.8</td>\n",
              "      <td>...</td>\n",
              "      <td>0.0</td>\n",
              "      <td>0.0</td>\n",
              "      <td>0.0</td>\n",
              "      <td>0.0</td>\n",
              "      <td>0.0</td>\n",
              "      <td>0.0</td>\n",
              "      <td>0.0</td>\n",
              "      <td>0.0</td>\n",
              "      <td>0.0</td>\n",
              "      <td>0.0</td>\n",
              "      <td>0.0</td>\n",
              "      <td>0.0</td>\n",
              "      <td>0.0</td>\n",
              "      <td>0.0</td>\n",
              "      <td>0.0</td>\n",
              "      <td>0.0</td>\n",
              "      <td>0.0</td>\n",
              "      <td>0.0</td>\n",
              "      <td>0.0</td>\n",
              "      <td>0.0</td>\n",
              "      <td>0.0</td>\n",
              "      <td>0.0</td>\n",
              "      <td>0.0</td>\n",
              "      <td>0.0</td>\n",
              "      <td>0.0</td>\n",
              "      <td>0.0</td>\n",
              "      <td>0.0</td>\n",
              "      <td>0.0</td>\n",
              "      <td>0.0</td>\n",
              "      <td>0.0</td>\n",
              "      <td>0.0</td>\n",
              "      <td>0.0</td>\n",
              "      <td>0.0</td>\n",
              "      <td>0.0</td>\n",
              "      <td>0.0</td>\n",
              "      <td>0.0</td>\n",
              "      <td>0.0</td>\n",
              "      <td>0.0</td>\n",
              "      <td>0.0</td>\n",
              "      <td>0.0</td>\n",
              "    </tr>\n",
              "  </tbody>\n",
              "</table>\n",
              "<p>5 rows × 1682 columns</p>\n",
              "</div>"
            ],
            "text/plain": [
              "         1     2     3     4     5     6     ...  1677  1678  1679  1680  1681  1682\n",
              "user_id                                      ...                                    \n",
              "1         1.0   0.6   0.8   0.6   0.6   1.0  ...   0.0   0.0   0.0   0.0   0.0   0.0\n",
              "2         0.8   0.0   0.0   0.0   0.0   0.0  ...   0.0   0.0   0.0   0.0   0.0   0.0\n",
              "3         0.0   0.0   0.0   0.0   0.0   0.0  ...   0.0   0.0   0.0   0.0   0.0   0.0\n",
              "4         0.0   0.0   0.0   0.0   0.0   0.0  ...   0.0   0.0   0.0   0.0   0.0   0.0\n",
              "5         0.8   0.6   0.0   0.0   0.0   0.0  ...   0.0   0.0   0.0   0.0   0.0   0.0\n",
              "\n",
              "[5 rows x 1682 columns]"
            ]
          },
          "metadata": {
            "tags": []
          },
          "execution_count": 9
        }
      ]
    },
    {
      "cell_type": "markdown",
      "metadata": {
        "id": "VHjrkAWRk5K4"
      },
      "source": [
        "As required, the data was separated into training and testing set. The testing set is built by getting the most recently rated movies; to do so, I took the most recent movies by year of release. Getting the movies by just inspecting the ones that were recently rated does not assure that most of their ratings are recent (perhaps a user watched an old movie recently and he or she rated it). "
      ]
    },
    {
      "cell_type": "code",
      "metadata": {
        "id": "z6i5y_flmaCZ",
        "colab": {
          "base_uri": "https://localhost:8080/"
        },
        "outputId": "a941d5ce-430a-4057-db22-6f2f43a2fc22"
      },
      "source": [
        "total_movies = df.shape[1]\n",
        "train_size = int(total_movies * 0.7)\n",
        "test_size = total_movies - train_size\n",
        "\n",
        "print(f'Number of movies in test set: {test_size}')\n",
        "print(f'Number of movies in train set: {train_size}')"
      ],
      "execution_count": 10,
      "outputs": [
        {
          "output_type": "stream",
          "text": [
            "Number of movies in test set: 505\n",
            "Number of movies in train set: 1177\n"
          ],
          "name": "stdout"
        }
      ]
    },
    {
      "cell_type": "markdown",
      "metadata": {
        "id": "rJqO_Sml2ZWd"
      },
      "source": [
        "The data will be split by the the time the movie was release: newest movies will be in testing set"
      ]
    },
    {
      "cell_type": "code",
      "metadata": {
        "id": "1YWlzgVowxZw"
      },
      "source": [
        "# Converting release date to datetime format and sorting\n",
        "item_release_date = item[['item_id', 'title', 'release_date']]\n",
        "item_release_date['datetime'] = pd.to_datetime(item_release_date['release_date'], format = '%d-%b-%Y').tolist()"
      ],
      "execution_count": 11,
      "outputs": []
    },
    {
      "cell_type": "code",
      "metadata": {
        "id": "iMU_WM7f1bJO"
      },
      "source": [
        "# Getting the ids and taking the newest ones as testing\n",
        "by_time_release = item_release_date.sort_values('datetime', ascending = False)['item_id'].tolist()"
      ],
      "execution_count": 12,
      "outputs": []
    },
    {
      "cell_type": "code",
      "metadata": {
        "id": "kGGsFfaG1yDC"
      },
      "source": [
        "test_ids = by_time_release[train_size:]\n",
        "train_ids = by_time_release[:train_size]"
      ],
      "execution_count": 13,
      "outputs": []
    },
    {
      "cell_type": "code",
      "metadata": {
        "id": "g8m4w6dsdt2k"
      },
      "source": [
        "# Spliting the dataset\n",
        "train_df = df[train_ids]\n",
        "test_df = df[test_ids]"
      ],
      "execution_count": 14,
      "outputs": []
    },
    {
      "cell_type": "code",
      "metadata": {
        "id": "x1_nfSRUecNP",
        "colab": {
          "base_uri": "https://localhost:8080/"
        },
        "outputId": "5bd979e8-7f59-4b19-c564-c1b5757ae1af"
      },
      "source": [
        "### Finding out if there are common columns\n",
        "if len(set(train_ids).intersection(set(test_ids))) == 0:\n",
        "  print('All good')\n",
        "else:\n",
        "  print('Check again...')\n"
      ],
      "execution_count": 15,
      "outputs": [
        {
          "output_type": "stream",
          "text": [
            "All good\n"
          ],
          "name": "stdout"
        }
      ]
    },
    {
      "cell_type": "markdown",
      "metadata": {
        "id": "IQ2TBcCthgM3"
      },
      "source": [
        "### Q1. Simple Autoencoder"
      ]
    },
    {
      "cell_type": "markdown",
      "metadata": {
        "id": "BKdyCe8JiOlH"
      },
      "source": [
        "#### Keras implementation"
      ]
    },
    {
      "cell_type": "code",
      "metadata": {
        "id": "cwSdu45njeEG"
      },
      "source": [
        "import keras\n",
        "from keras.models import Model, Sequential\n",
        "from keras.layers import Input, Dense, Dropout, Activation\n",
        "from keras.optimizers import Adam\n",
        "from keras import regularizers\n",
        "from keras import backend as K\n",
        "from keras.layers.normalization import BatchNormalization"
      ],
      "execution_count": 16,
      "outputs": []
    },
    {
      "cell_type": "markdown",
      "metadata": {
        "id": "XcUNgEtqz3tC"
      },
      "source": [
        "#### Data to feed the model"
      ]
    },
    {
      "cell_type": "code",
      "metadata": {
        "id": "Igpk9DPVz-Gy"
      },
      "source": [
        "train_size = len(train_df.columns)\n",
        "\n",
        "### Training input\n",
        "x_train = train_df.values\n",
        "\n",
        "### Testing input\n",
        "test_values = test_df.values\n",
        "zeros = np.zeros((number_of_users, train_size - len(test_df.columns)))\n",
        "x_test = np.concatenate((test_values, zeros), axis = 1)\n",
        "\n",
        "### Real values for testing\n",
        "y_true = test_df.values"
      ],
      "execution_count": 17,
      "outputs": []
    },
    {
      "cell_type": "code",
      "metadata": {
        "id": "1TEYMdUK06ft"
      },
      "source": [
        "### Encoding dimension value\n",
        "encoding_dim = 32\n",
        "\n",
        "### Input layer size\n",
        "input_layer = Input(shape = (train_size, ))"
      ],
      "execution_count": 18,
      "outputs": []
    },
    {
      "cell_type": "markdown",
      "metadata": {
        "id": "rDBQBAfpyr_L"
      },
      "source": [
        "#### Training the model"
      ]
    },
    {
      "cell_type": "markdown",
      "metadata": {
        "id": "K4cic0GFlCId"
      },
      "source": [
        "The autoencoder used in Q1 has only 1 layer with an encoding dimension of 32. Tanh was used as activation function in the hidden layer and sigmoid in the output layer."
      ]
    },
    {
      "cell_type": "code",
      "metadata": {
        "id": "KpYwqjiKY0RQ",
        "colab": {
          "base_uri": "https://localhost:8080/"
        },
        "outputId": "36b75649-f721-4360-8eef-6a56ed8d9dfb"
      },
      "source": [
        "### Loss Function to use\n",
        "def rmse(y_true, y_pred):\n",
        "  return K.sqrt(K.mean(K.square(y_pred - y_true)))\n",
        "\n",
        "## Building model\n",
        "simple_autoencoder = Sequential([\n",
        "    ## Encoder\n",
        "    Dense(encoding_dim, input_shape = (train_size, ), activation = 'tanh'),\n",
        "    \n",
        "    ## Decoder    \n",
        "    Dense(train_size, activation = 'sigmoid'),\n",
        "])\n",
        "simple_autoencoder.summary()"
      ],
      "execution_count": 19,
      "outputs": [
        {
          "output_type": "stream",
          "text": [
            "Model: \"sequential\"\n",
            "_________________________________________________________________\n",
            "Layer (type)                 Output Shape              Param #   \n",
            "=================================================================\n",
            "dense (Dense)                (None, 32)                37696     \n",
            "_________________________________________________________________\n",
            "dense_1 (Dense)              (None, 1177)              38841     \n",
            "=================================================================\n",
            "Total params: 76,537\n",
            "Trainable params: 76,537\n",
            "Non-trainable params: 0\n",
            "_________________________________________________________________\n"
          ],
          "name": "stdout"
        }
      ]
    },
    {
      "cell_type": "markdown",
      "metadata": {
        "id": "SEAy3a3HlGd5"
      },
      "source": [
        "As loss function, RMSE was used. Since Keras does not have a built-in RMSE function, I had to define my own. As optimizer, Adam was used. The model was trained in 200 epochs with batch size of 128.\r\n",
        "\r\n",
        "For testing, since the data is very sparse it’d be unfair to compare the zeros (the entries that the user has not rated yet) with the output of the model (a value very close to zero), because then the loss value would be inflated (very low) due to those zero values. For such reasons, only the non-zero values were used in the RMSE calculation (this is done for Q2 and Q4 as well).\r\n"
      ]
    },
    {
      "cell_type": "code",
      "metadata": {
        "id": "Fb6WUQJ-fScR",
        "colab": {
          "base_uri": "https://localhost:8080/"
        },
        "outputId": "f77262b0-a80c-49ea-916e-a41ab2a8189c"
      },
      "source": [
        "## Train model with train set.\n",
        "batch_size = 128\n",
        "epochs = 200\n",
        "\n",
        "simple_autoencoder.compile(loss = rmse,\n",
        "                          optimizer = Adam())\n",
        "\n",
        "simple_autoencoder.fit(x_train, x_train,\n",
        "                batch_size=batch_size,\n",
        "                epochs=epochs,\n",
        "                shuffle=True,\n",
        "                verbose=0,\n",
        "                validation_data=(x_test, x_test))"
      ],
      "execution_count": 20,
      "outputs": [
        {
          "output_type": "execute_result",
          "data": {
            "text/plain": [
              "<tensorflow.python.keras.callbacks.History at 0x7f018ff83940>"
            ]
          },
          "metadata": {
            "tags": []
          },
          "execution_count": 20
        }
      ]
    },
    {
      "cell_type": "markdown",
      "metadata": {
        "id": "egjgkBhuymz6"
      },
      "source": [
        "#### Testing the Model"
      ]
    },
    {
      "cell_type": "code",
      "metadata": {
        "id": "d19nmsFyHCA8"
      },
      "source": [
        "from sklearn.metrics import mean_squared_error\n",
        "def test_rmse(y_true, y_pred):\n",
        "  non_zeros = y_true > 0\n",
        "  y_true = y_true[non_zeros]\n",
        "  y_pred = y_pred[non_zeros]\n",
        "  return mean_squared_error(y_true, y_pred)"
      ],
      "execution_count": 21,
      "outputs": []
    },
    {
      "cell_type": "code",
      "metadata": {
        "id": "WAx_Hx4nmodK"
      },
      "source": [
        "### Predict values\n",
        "y_pred = simple_autoencoder.predict(x_test)\n",
        "y_pred = y_pred[:,:len(test_df.columns)]\n",
        "y_pred[y_true == 0] = 0"
      ],
      "execution_count": 22,
      "outputs": []
    },
    {
      "cell_type": "code",
      "metadata": {
        "id": "xq3u8oOjljIm",
        "colab": {
          "base_uri": "https://localhost:8080/"
        },
        "outputId": "803cbac4-f4ad-4f54-c1f8-e839e326e907"
      },
      "source": [
        "## Calculating error: RMSE formula\n",
        "q1_loss = test_rmse(y_true, y_pred)\n",
        "print(q1_loss)"
      ],
      "execution_count": 23,
      "outputs": [
        {
          "output_type": "stream",
          "text": [
            "0.5547575167023033\n"
          ],
          "name": "stdout"
        }
      ]
    },
    {
      "cell_type": "markdown",
      "metadata": {
        "id": "YCh8WYVArCSt"
      },
      "source": [
        "### Q2. Deep Autoencoder"
      ]
    },
    {
      "cell_type": "markdown",
      "metadata": {
        "id": "MbmBIdqKlPBS"
      },
      "source": [
        "The deep autoencoder consisted in 4 layers for encoder and 4 layers for decoder; in each layer batch normalization and dropout (50%) is implemented. The loss function, optimizer, batch size and epoch size are kept the same from Q1."
      ]
    },
    {
      "cell_type": "code",
      "metadata": {
        "id": "i-FBGm8FqFPn"
      },
      "source": [
        "## Building model\n",
        "\n",
        "deep_autoencoder = Sequential([\n",
        "    ## Encoder\n",
        "    Dense(encoding_dim * 16, input_shape = (train_size, )),\n",
        "    BatchNormalization(),\n",
        "    Activation('tanh'),\n",
        "    Dropout(0.5),\n",
        "    \n",
        "    Dense(encoding_dim * 4),\n",
        "    BatchNormalization(),\n",
        "    Activation('tanh'),\n",
        "    Dropout(0.5),\n",
        "    \n",
        "    Dense(encoding_dim * 2),\n",
        "    BatchNormalization(),\n",
        "    Activation('tanh'),\n",
        "    Dropout(0.5),\n",
        "    \n",
        "    Dense(encoding_dim),\n",
        "    BatchNormalization(),\n",
        "    Activation('tanh'),\n",
        "    Dropout(0.5),  \n",
        "    \n",
        "    ## Decoder\n",
        "    Dense(encoding_dim * 2),\n",
        "    BatchNormalization(),\n",
        "    Activation('tanh'),\n",
        "    Dropout(0.5), \n",
        "    \n",
        "    Dense(encoding_dim * 4),\n",
        "    BatchNormalization(),\n",
        "    Activation('tanh'),\n",
        "    Dropout(0.5), \n",
        "    \n",
        "    Dense(encoding_dim * 16),\n",
        "    BatchNormalization(),\n",
        "    Activation('tanh'),\n",
        "    Dropout(0.5), \n",
        "    \n",
        "    Dense(train_size),\n",
        "    BatchNormalization(),\n",
        "    Activation('sigmoid'),\n",
        "])"
      ],
      "execution_count": 24,
      "outputs": []
    },
    {
      "cell_type": "code",
      "metadata": {
        "id": "qJnUfh-FD2m2",
        "colab": {
          "base_uri": "https://localhost:8080/"
        },
        "outputId": "35fe7e38-f61a-41ee-f3bd-90cc5a72871d"
      },
      "source": [
        "# Using the same parameters as Q1\n",
        "deep_autoencoder.compile(loss = rmse,\n",
        "                          optimizer = Adam())\n",
        "\n",
        "batch_size = 128\n",
        "epochs = 200\n",
        "\n",
        "deep_autoencoder.fit(x_train, x_train,\n",
        "                batch_size=batch_size,\n",
        "                epochs=epochs,\n",
        "                shuffle=True,\n",
        "                verbose=0,\n",
        "                validation_data=(x_test, x_test))"
      ],
      "execution_count": 25,
      "outputs": [
        {
          "output_type": "execute_result",
          "data": {
            "text/plain": [
              "<tensorflow.python.keras.callbacks.History at 0x7f00dd2f39b0>"
            ]
          },
          "metadata": {
            "tags": []
          },
          "execution_count": 25
        }
      ]
    },
    {
      "cell_type": "code",
      "metadata": {
        "id": "vkI1f1M5srHy"
      },
      "source": [
        "# Testing\n",
        "y_pred = deep_autoencoder.predict(x_test)\n",
        "y_pred = y_pred[:,:len(test_df.columns)]\n",
        "y_pred[y_true == 0] = 0"
      ],
      "execution_count": 26,
      "outputs": []
    },
    {
      "cell_type": "code",
      "metadata": {
        "id": "Xr8Wz6YHvHdZ",
        "colab": {
          "base_uri": "https://localhost:8080/"
        },
        "outputId": "e15fb671-08a3-4cfb-9817-3b2def709cd7"
      },
      "source": [
        "## Calculating error: RMSE formula\n",
        "q2_loss = test_rmse(y_true, y_pred)\n",
        "print(q2_loss)"
      ],
      "execution_count": 27,
      "outputs": [
        {
          "output_type": "stream",
          "text": [
            "0.3441531889613632\n"
          ],
          "name": "stdout"
        }
      ]
    },
    {
      "cell_type": "code",
      "metadata": {
        "id": "ihgRIIwmdyNl",
        "colab": {
          "base_uri": "https://localhost:8080/"
        },
        "outputId": "b08c429f-c4d0-4491-dcda-451cf2e06755"
      },
      "source": [
        "print(q1_loss - q2_loss)"
      ],
      "execution_count": 28,
      "outputs": [
        {
          "output_type": "stream",
          "text": [
            "0.21060432774094012\n"
          ],
          "name": "stdout"
        }
      ]
    },
    {
      "cell_type": "markdown",
      "metadata": {
        "id": "yZ64_gPTlUEi"
      },
      "source": [
        "There’s an improvement from Q1. Out of curiosity, another deep autoencoder was built; this time with 3 layers for encoder and 3 for decoder, with only dropout between the encoder and the decoder. The RMSE score is just a little better than the previous one. Therefore, perhaps there’s no need to go that deep for this dataset."
      ]
    },
    {
      "cell_type": "markdown",
      "metadata": {
        "id": "Aby84nqbKVsQ"
      },
      "source": [
        "The loss seems to be decreased, just to try I'll reduce layer and also dropout layers"
      ]
    },
    {
      "cell_type": "code",
      "metadata": {
        "id": "vsxusa0_KbTn"
      },
      "source": [
        "deep_autoencoder_2 = Sequential([\n",
        "    ## Encoder\n",
        "    Dense(encoding_dim * 4, input_shape = (train_size, )),\n",
        "    BatchNormalization(),\n",
        "    Activation('tanh'),\n",
        "    #Dropout(0.5),\n",
        "    \n",
        "    Dense(encoding_dim * 2),\n",
        "    BatchNormalization(),\n",
        "    Activation('tanh'),\n",
        "    #Dropout(0.5),\n",
        "    \n",
        "    Dense(encoding_dim),\n",
        "    BatchNormalization(),\n",
        "    Activation('tanh'),\n",
        "    Dropout(0.5),  \n",
        "    \n",
        "    ## Decoder\n",
        "    Dense(encoding_dim * 2),\n",
        "    BatchNormalization(),\n",
        "    Activation('tanh'),\n",
        "    #Dropout(0.5), \n",
        "    \n",
        "    Dense(encoding_dim * 4),\n",
        "    BatchNormalization(),\n",
        "    Activation('tanh'),\n",
        "    #Dropout(0.5), \n",
        "    \n",
        "    Dense(train_size),\n",
        "    BatchNormalization(),\n",
        "    Activation('sigmoid'),\n",
        "])"
      ],
      "execution_count": 29,
      "outputs": []
    },
    {
      "cell_type": "code",
      "metadata": {
        "id": "YH4BmgzXKx93",
        "colab": {
          "base_uri": "https://localhost:8080/"
        },
        "outputId": "6575c5b2-81fc-4e13-e31d-408bf48c17e5"
      },
      "source": [
        "# Using the same parameters as Q1\n",
        "deep_autoencoder_2.compile(loss = rmse,\n",
        "                          optimizer = Adam())\n",
        "\n",
        "batch_size = 128\n",
        "epochs = 200\n",
        "\n",
        "deep_autoencoder_2.fit(x_train, x_train,\n",
        "                batch_size=batch_size,\n",
        "                epochs=epochs,\n",
        "                shuffle=True,\n",
        "                verbose=0,\n",
        "                validation_data=(x_test, x_test))"
      ],
      "execution_count": 30,
      "outputs": [
        {
          "output_type": "execute_result",
          "data": {
            "text/plain": [
              "<tensorflow.python.keras.callbacks.History at 0x7f00db4f7d30>"
            ]
          },
          "metadata": {
            "tags": []
          },
          "execution_count": 30
        }
      ]
    },
    {
      "cell_type": "code",
      "metadata": {
        "id": "CWrYyNnMK2rN",
        "colab": {
          "base_uri": "https://localhost:8080/"
        },
        "outputId": "193aa618-0373-402c-9a71-442df6a72687"
      },
      "source": [
        "# Testing\n",
        "y_pred = deep_autoencoder_2.predict(x_test)\n",
        "y_pred = y_pred[:,:len(test_df.columns)] #test size\n",
        "y_pred[y_true == 0] = 0\n",
        "\n",
        "## Calculating error: RMSE formula\n",
        "q2_loss_b = test_rmse(y_true, y_pred)\n",
        "print(q2_loss_b)"
      ],
      "execution_count": 31,
      "outputs": [
        {
          "output_type": "stream",
          "text": [
            "0.33690872210728307\n"
          ],
          "name": "stdout"
        }
      ]
    },
    {
      "cell_type": "code",
      "metadata": {
        "id": "MUN7KDaQeUnP",
        "colab": {
          "base_uri": "https://localhost:8080/"
        },
        "outputId": "c2555628-c116-4927-b707-0755aa25c516"
      },
      "source": [
        "print(q2_loss - q2_loss_b)"
      ],
      "execution_count": 32,
      "outputs": [
        {
          "output_type": "stream",
          "text": [
            "0.007244466854080145\n"
          ],
          "name": "stdout"
        }
      ]
    },
    {
      "cell_type": "markdown",
      "metadata": {
        "id": "w1SsFEmsN1pA"
      },
      "source": [
        "### Q3. Auxiliary Information"
      ]
    },
    {
      "cell_type": "code",
      "metadata": {
        "id": "05mEFSAnOIO4"
      },
      "source": [
        "user = pd.read_csv('ml-100k/u.user', sep=\"|\", header=None)\n",
        "user.columns =['user_id', 'age', 'gender', 'occupation', 'zip_code']"
      ],
      "execution_count": 33,
      "outputs": []
    },
    {
      "cell_type": "code",
      "metadata": {
        "id": "JdCw_xefOcOs",
        "colab": {
          "base_uri": "https://localhost:8080/",
          "height": 204
        },
        "outputId": "a011a982-2beb-4cae-e800-6319c893d8b0"
      },
      "source": [
        "user.head()"
      ],
      "execution_count": 34,
      "outputs": [
        {
          "output_type": "execute_result",
          "data": {
            "text/html": [
              "<div>\n",
              "<style scoped>\n",
              "    .dataframe tbody tr th:only-of-type {\n",
              "        vertical-align: middle;\n",
              "    }\n",
              "\n",
              "    .dataframe tbody tr th {\n",
              "        vertical-align: top;\n",
              "    }\n",
              "\n",
              "    .dataframe thead th {\n",
              "        text-align: right;\n",
              "    }\n",
              "</style>\n",
              "<table border=\"1\" class=\"dataframe\">\n",
              "  <thead>\n",
              "    <tr style=\"text-align: right;\">\n",
              "      <th></th>\n",
              "      <th>user_id</th>\n",
              "      <th>age</th>\n",
              "      <th>gender</th>\n",
              "      <th>occupation</th>\n",
              "      <th>zip_code</th>\n",
              "    </tr>\n",
              "  </thead>\n",
              "  <tbody>\n",
              "    <tr>\n",
              "      <th>0</th>\n",
              "      <td>1</td>\n",
              "      <td>24</td>\n",
              "      <td>M</td>\n",
              "      <td>technician</td>\n",
              "      <td>85711</td>\n",
              "    </tr>\n",
              "    <tr>\n",
              "      <th>1</th>\n",
              "      <td>2</td>\n",
              "      <td>53</td>\n",
              "      <td>F</td>\n",
              "      <td>other</td>\n",
              "      <td>94043</td>\n",
              "    </tr>\n",
              "    <tr>\n",
              "      <th>2</th>\n",
              "      <td>3</td>\n",
              "      <td>23</td>\n",
              "      <td>M</td>\n",
              "      <td>writer</td>\n",
              "      <td>32067</td>\n",
              "    </tr>\n",
              "    <tr>\n",
              "      <th>3</th>\n",
              "      <td>4</td>\n",
              "      <td>24</td>\n",
              "      <td>M</td>\n",
              "      <td>technician</td>\n",
              "      <td>43537</td>\n",
              "    </tr>\n",
              "    <tr>\n",
              "      <th>4</th>\n",
              "      <td>5</td>\n",
              "      <td>33</td>\n",
              "      <td>F</td>\n",
              "      <td>other</td>\n",
              "      <td>15213</td>\n",
              "    </tr>\n",
              "  </tbody>\n",
              "</table>\n",
              "</div>"
            ],
            "text/plain": [
              "   user_id  age gender  occupation zip_code\n",
              "0        1   24      M  technician    85711\n",
              "1        2   53      F       other    94043\n",
              "2        3   23      M      writer    32067\n",
              "3        4   24      M  technician    43537\n",
              "4        5   33      F       other    15213"
            ]
          },
          "metadata": {
            "tags": []
          },
          "execution_count": 34
        }
      ]
    },
    {
      "cell_type": "markdown",
      "metadata": {
        "id": "Vl5upfQylgIx"
      },
      "source": [
        "In the user dataframe, there are three information that can be useful: age, gender and occupation."
      ]
    },
    {
      "cell_type": "markdown",
      "metadata": {
        "id": "n4cYUYWFXrsX"
      },
      "source": [
        "#### One Hot Encoding"
      ]
    },
    {
      "cell_type": "code",
      "metadata": {
        "id": "fzE6VLnKQ7AM"
      },
      "source": [
        "from sklearn.preprocessing import OneHotEncoder\n",
        "from sklearn.preprocessing import LabelEncoder"
      ],
      "execution_count": 35,
      "outputs": []
    },
    {
      "cell_type": "markdown",
      "metadata": {
        "id": "DcREHeGWkW5p"
      },
      "source": [
        "Using one-hot encoder for occupation"
      ]
    },
    {
      "cell_type": "code",
      "metadata": {
        "id": "Mo-iHpydiKes",
        "colab": {
          "base_uri": "https://localhost:8080/"
        },
        "outputId": "a3be8467-2c05-4950-dc66-3e3cef62ade0"
      },
      "source": [
        "occupations = np.sort(np.array(list(set(user['occupation'].values))))\r\n",
        "print(occupations)"
      ],
      "execution_count": 36,
      "outputs": [
        {
          "output_type": "stream",
          "text": [
            "['administrator' 'artist' 'doctor' 'educator' 'engineer' 'entertainment'\n",
            " 'executive' 'healthcare' 'homemaker' 'lawyer' 'librarian' 'marketing'\n",
            " 'none' 'other' 'programmer' 'retired' 'salesman' 'scientist' 'student'\n",
            " 'technician' 'writer']\n"
          ],
          "name": "stdout"
        }
      ]
    },
    {
      "cell_type": "code",
      "metadata": {
        "id": "GESiHpVGWaEK"
      },
      "source": [
        "# Using SKLearn, one can easily convert categorical values to binary values\n",
        "label_encoder = LabelEncoder()\n",
        "integer_encoded = label_encoder.fit_transform(occupations)\n",
        "# binary encode\n",
        "onehot_encoder = OneHotEncoder(sparse=False)\n",
        "integer_encoded = integer_encoded.reshape(len(integer_encoded), 1)\n",
        "onehot_encoded = onehot_encoder.fit_transform(integer_encoded)"
      ],
      "execution_count": 37,
      "outputs": []
    },
    {
      "cell_type": "code",
      "metadata": {
        "id": "JaeBpteAWgo-",
        "colab": {
          "base_uri": "https://localhost:8080/",
          "height": 204
        },
        "outputId": "0879e1ca-54f3-4234-89c9-8de397c43ac8"
      },
      "source": [
        "occupation_definition = pd.DataFrame(onehot_encoded, columns = occupations).transpose()\n",
        "occupation_definition.head()"
      ],
      "execution_count": 38,
      "outputs": [
        {
          "output_type": "execute_result",
          "data": {
            "text/html": [
              "<div>\n",
              "<style scoped>\n",
              "    .dataframe tbody tr th:only-of-type {\n",
              "        vertical-align: middle;\n",
              "    }\n",
              "\n",
              "    .dataframe tbody tr th {\n",
              "        vertical-align: top;\n",
              "    }\n",
              "\n",
              "    .dataframe thead th {\n",
              "        text-align: right;\n",
              "    }\n",
              "</style>\n",
              "<table border=\"1\" class=\"dataframe\">\n",
              "  <thead>\n",
              "    <tr style=\"text-align: right;\">\n",
              "      <th></th>\n",
              "      <th>0</th>\n",
              "      <th>1</th>\n",
              "      <th>2</th>\n",
              "      <th>3</th>\n",
              "      <th>4</th>\n",
              "      <th>5</th>\n",
              "      <th>6</th>\n",
              "      <th>7</th>\n",
              "      <th>8</th>\n",
              "      <th>9</th>\n",
              "      <th>10</th>\n",
              "      <th>11</th>\n",
              "      <th>12</th>\n",
              "      <th>13</th>\n",
              "      <th>14</th>\n",
              "      <th>15</th>\n",
              "      <th>16</th>\n",
              "      <th>17</th>\n",
              "      <th>18</th>\n",
              "      <th>19</th>\n",
              "      <th>20</th>\n",
              "    </tr>\n",
              "  </thead>\n",
              "  <tbody>\n",
              "    <tr>\n",
              "      <th>administrator</th>\n",
              "      <td>1.0</td>\n",
              "      <td>0.0</td>\n",
              "      <td>0.0</td>\n",
              "      <td>0.0</td>\n",
              "      <td>0.0</td>\n",
              "      <td>0.0</td>\n",
              "      <td>0.0</td>\n",
              "      <td>0.0</td>\n",
              "      <td>0.0</td>\n",
              "      <td>0.0</td>\n",
              "      <td>0.0</td>\n",
              "      <td>0.0</td>\n",
              "      <td>0.0</td>\n",
              "      <td>0.0</td>\n",
              "      <td>0.0</td>\n",
              "      <td>0.0</td>\n",
              "      <td>0.0</td>\n",
              "      <td>0.0</td>\n",
              "      <td>0.0</td>\n",
              "      <td>0.0</td>\n",
              "      <td>0.0</td>\n",
              "    </tr>\n",
              "    <tr>\n",
              "      <th>artist</th>\n",
              "      <td>0.0</td>\n",
              "      <td>1.0</td>\n",
              "      <td>0.0</td>\n",
              "      <td>0.0</td>\n",
              "      <td>0.0</td>\n",
              "      <td>0.0</td>\n",
              "      <td>0.0</td>\n",
              "      <td>0.0</td>\n",
              "      <td>0.0</td>\n",
              "      <td>0.0</td>\n",
              "      <td>0.0</td>\n",
              "      <td>0.0</td>\n",
              "      <td>0.0</td>\n",
              "      <td>0.0</td>\n",
              "      <td>0.0</td>\n",
              "      <td>0.0</td>\n",
              "      <td>0.0</td>\n",
              "      <td>0.0</td>\n",
              "      <td>0.0</td>\n",
              "      <td>0.0</td>\n",
              "      <td>0.0</td>\n",
              "    </tr>\n",
              "    <tr>\n",
              "      <th>doctor</th>\n",
              "      <td>0.0</td>\n",
              "      <td>0.0</td>\n",
              "      <td>1.0</td>\n",
              "      <td>0.0</td>\n",
              "      <td>0.0</td>\n",
              "      <td>0.0</td>\n",
              "      <td>0.0</td>\n",
              "      <td>0.0</td>\n",
              "      <td>0.0</td>\n",
              "      <td>0.0</td>\n",
              "      <td>0.0</td>\n",
              "      <td>0.0</td>\n",
              "      <td>0.0</td>\n",
              "      <td>0.0</td>\n",
              "      <td>0.0</td>\n",
              "      <td>0.0</td>\n",
              "      <td>0.0</td>\n",
              "      <td>0.0</td>\n",
              "      <td>0.0</td>\n",
              "      <td>0.0</td>\n",
              "      <td>0.0</td>\n",
              "    </tr>\n",
              "    <tr>\n",
              "      <th>educator</th>\n",
              "      <td>0.0</td>\n",
              "      <td>0.0</td>\n",
              "      <td>0.0</td>\n",
              "      <td>1.0</td>\n",
              "      <td>0.0</td>\n",
              "      <td>0.0</td>\n",
              "      <td>0.0</td>\n",
              "      <td>0.0</td>\n",
              "      <td>0.0</td>\n",
              "      <td>0.0</td>\n",
              "      <td>0.0</td>\n",
              "      <td>0.0</td>\n",
              "      <td>0.0</td>\n",
              "      <td>0.0</td>\n",
              "      <td>0.0</td>\n",
              "      <td>0.0</td>\n",
              "      <td>0.0</td>\n",
              "      <td>0.0</td>\n",
              "      <td>0.0</td>\n",
              "      <td>0.0</td>\n",
              "      <td>0.0</td>\n",
              "    </tr>\n",
              "    <tr>\n",
              "      <th>engineer</th>\n",
              "      <td>0.0</td>\n",
              "      <td>0.0</td>\n",
              "      <td>0.0</td>\n",
              "      <td>0.0</td>\n",
              "      <td>1.0</td>\n",
              "      <td>0.0</td>\n",
              "      <td>0.0</td>\n",
              "      <td>0.0</td>\n",
              "      <td>0.0</td>\n",
              "      <td>0.0</td>\n",
              "      <td>0.0</td>\n",
              "      <td>0.0</td>\n",
              "      <td>0.0</td>\n",
              "      <td>0.0</td>\n",
              "      <td>0.0</td>\n",
              "      <td>0.0</td>\n",
              "      <td>0.0</td>\n",
              "      <td>0.0</td>\n",
              "      <td>0.0</td>\n",
              "      <td>0.0</td>\n",
              "      <td>0.0</td>\n",
              "    </tr>\n",
              "  </tbody>\n",
              "</table>\n",
              "</div>"
            ],
            "text/plain": [
              "                0    1    2    3    4    5   ...   15   16   17   18   19   20\n",
              "administrator  1.0  0.0  0.0  0.0  0.0  0.0  ...  0.0  0.0  0.0  0.0  0.0  0.0\n",
              "artist         0.0  1.0  0.0  0.0  0.0  0.0  ...  0.0  0.0  0.0  0.0  0.0  0.0\n",
              "doctor         0.0  0.0  1.0  0.0  0.0  0.0  ...  0.0  0.0  0.0  0.0  0.0  0.0\n",
              "educator       0.0  0.0  0.0  1.0  0.0  0.0  ...  0.0  0.0  0.0  0.0  0.0  0.0\n",
              "engineer       0.0  0.0  0.0  0.0  1.0  0.0  ...  0.0  0.0  0.0  0.0  0.0  0.0\n",
              "\n",
              "[5 rows x 21 columns]"
            ]
          },
          "metadata": {
            "tags": []
          },
          "execution_count": 38
        }
      ]
    },
    {
      "cell_type": "markdown",
      "metadata": {
        "id": "oF5BWlPvcnOd"
      },
      "source": [
        "For gender, simply put Female is [0, 1] and Male is [1, 0]. For age, although it is not categorical data, if it’s converted in categorical it would convey more information. Therefore I used the definition of age categories from the Canada government website (https://www.statcan.gc.ca/eng/concepts/definitions/age2), in which children are those from 0 to 14 years old, youth are those from 15 to 24 years old, adults are those from 25 to 64 years old and seniors are those older than 64 years old."
      ]
    },
    {
      "cell_type": "code",
      "metadata": {
        "id": "2kA9lryJj9g_"
      },
      "source": [
        "genders = np.sort(np.array(list(set(user['gender'].values))))\n",
        "\n",
        "# Using SKLearn, one can easily convert categorical values to binary values\n",
        "label_encoder = LabelEncoder()\n",
        "integer_encoded = label_encoder.fit_transform(genders)\n",
        "# binary encode\n",
        "onehot_encoder = OneHotEncoder(sparse=False)\n",
        "integer_encoded = integer_encoded.reshape(len(integer_encoded), 1)\n",
        "onehot_encoded = onehot_encoder.fit_transform(integer_encoded)"
      ],
      "execution_count": 39,
      "outputs": []
    },
    {
      "cell_type": "code",
      "metadata": {
        "id": "kd7bJGc_kj6k",
        "colab": {
          "base_uri": "https://localhost:8080/"
        },
        "outputId": "331c1e45-2b98-43ac-e3f9-73a139b6b37f"
      },
      "source": [
        "gender_definition = pd.DataFrame(onehot_encoded, columns = genders).transpose()\n",
        "print(gender_definition)"
      ],
      "execution_count": 40,
      "outputs": [
        {
          "output_type": "stream",
          "text": [
            "     0    1\n",
            "F  1.0  0.0\n",
            "M  0.0  1.0\n"
          ],
          "name": "stdout"
        }
      ]
    },
    {
      "cell_type": "markdown",
      "metadata": {
        "id": "qK1N0epa13Sv"
      },
      "source": [
        "Age: Since age per se conveys little information (just one column), it'd be nice to transform it in categorical data.\n",
        "\n",
        "According to this definition of age (https://www.statcan.gc.ca/eng/concepts/definitions/age2). Children = 0 -14 yo Youth = 15 - 24 yo Adults = 25 - 64 yo Seniors = 65 and over"
      ]
    },
    {
      "cell_type": "code",
      "metadata": {
        "id": "TZH1BxDd17cn"
      },
      "source": [
        "ages = ['adult', 'child', 'senior', 'young']"
      ],
      "execution_count": 41,
      "outputs": []
    },
    {
      "cell_type": "code",
      "metadata": {
        "id": "IsceAWb617hO"
      },
      "source": [
        "# Using SKLearn, one can easily convert categorical values to binary values\n",
        "label_encoder = LabelEncoder()\n",
        "integer_encoded = label_encoder.fit_transform(ages)\n",
        "# binary encode\n",
        "onehot_encoder = OneHotEncoder(sparse=False)\n",
        "integer_encoded = integer_encoded.reshape(len(integer_encoded), 1)\n",
        "onehot_encoded = onehot_encoder.fit_transform(integer_encoded)"
      ],
      "execution_count": 42,
      "outputs": []
    },
    {
      "cell_type": "code",
      "metadata": {
        "id": "6s08eckr17lB",
        "colab": {
          "base_uri": "https://localhost:8080/",
          "height": 173
        },
        "outputId": "0bc286c3-ad92-4ce6-880d-2d6fd0993a50"
      },
      "source": [
        "age_definition = pd.DataFrame(onehot_encoded, columns = ages).transpose()\n",
        "age_definition"
      ],
      "execution_count": 43,
      "outputs": [
        {
          "output_type": "execute_result",
          "data": {
            "text/html": [
              "<div>\n",
              "<style scoped>\n",
              "    .dataframe tbody tr th:only-of-type {\n",
              "        vertical-align: middle;\n",
              "    }\n",
              "\n",
              "    .dataframe tbody tr th {\n",
              "        vertical-align: top;\n",
              "    }\n",
              "\n",
              "    .dataframe thead th {\n",
              "        text-align: right;\n",
              "    }\n",
              "</style>\n",
              "<table border=\"1\" class=\"dataframe\">\n",
              "  <thead>\n",
              "    <tr style=\"text-align: right;\">\n",
              "      <th></th>\n",
              "      <th>0</th>\n",
              "      <th>1</th>\n",
              "      <th>2</th>\n",
              "      <th>3</th>\n",
              "    </tr>\n",
              "  </thead>\n",
              "  <tbody>\n",
              "    <tr>\n",
              "      <th>adult</th>\n",
              "      <td>1.0</td>\n",
              "      <td>0.0</td>\n",
              "      <td>0.0</td>\n",
              "      <td>0.0</td>\n",
              "    </tr>\n",
              "    <tr>\n",
              "      <th>child</th>\n",
              "      <td>0.0</td>\n",
              "      <td>1.0</td>\n",
              "      <td>0.0</td>\n",
              "      <td>0.0</td>\n",
              "    </tr>\n",
              "    <tr>\n",
              "      <th>senior</th>\n",
              "      <td>0.0</td>\n",
              "      <td>0.0</td>\n",
              "      <td>1.0</td>\n",
              "      <td>0.0</td>\n",
              "    </tr>\n",
              "    <tr>\n",
              "      <th>young</th>\n",
              "      <td>0.0</td>\n",
              "      <td>0.0</td>\n",
              "      <td>0.0</td>\n",
              "      <td>1.0</td>\n",
              "    </tr>\n",
              "  </tbody>\n",
              "</table>\n",
              "</div>"
            ],
            "text/plain": [
              "          0    1    2    3\n",
              "adult   1.0  0.0  0.0  0.0\n",
              "child   0.0  1.0  0.0  0.0\n",
              "senior  0.0  0.0  1.0  0.0\n",
              "young   0.0  0.0  0.0  1.0"
            ]
          },
          "metadata": {
            "tags": []
          },
          "execution_count": 43
        }
      ]
    },
    {
      "cell_type": "markdown",
      "metadata": {
        "id": "5shmygTDcqru"
      },
      "source": [
        "#### Building the one-hot encode dataframe per user"
      ]
    },
    {
      "cell_type": "markdown",
      "metadata": {
        "id": "LfymESe7k8hv"
      },
      "source": [
        "Occupations"
      ]
    },
    {
      "cell_type": "code",
      "metadata": {
        "id": "zNGQbDKQdQXd"
      },
      "source": [
        "occupations_df = pd.DataFrame(columns = occupations, index = df.index)"
      ],
      "execution_count": 44,
      "outputs": []
    },
    {
      "cell_type": "code",
      "metadata": {
        "id": "PPZKwbb4dsgF"
      },
      "source": [
        "# Using SKLearn, one can easily convert categorical values to binary values\n",
        "values = np.array(list(user['occupation'].values))\n",
        "label_encoder = LabelEncoder()\n",
        "integer_encoded = label_encoder.fit_transform(values)\n",
        "# binary encode\n",
        "onehot_encoder = OneHotEncoder(sparse=False)\n",
        "integer_encoded = integer_encoded.reshape(len(integer_encoded), 1)\n",
        "onehot_encoded = onehot_encoder.fit_transform(integer_encoded)"
      ],
      "execution_count": 45,
      "outputs": []
    },
    {
      "cell_type": "code",
      "metadata": {
        "id": "MKU608h-dtXE",
        "colab": {
          "base_uri": "https://localhost:8080/",
          "height": 255
        },
        "outputId": "b1cdaab9-0ce1-4dbf-fbac-ac5b712eda08"
      },
      "source": [
        "occupations_df[list(occupations)] = onehot_encoded\r\n",
        "occupations_df.head()"
      ],
      "execution_count": 46,
      "outputs": [
        {
          "output_type": "execute_result",
          "data": {
            "text/html": [
              "<div>\n",
              "<style scoped>\n",
              "    .dataframe tbody tr th:only-of-type {\n",
              "        vertical-align: middle;\n",
              "    }\n",
              "\n",
              "    .dataframe tbody tr th {\n",
              "        vertical-align: top;\n",
              "    }\n",
              "\n",
              "    .dataframe thead th {\n",
              "        text-align: right;\n",
              "    }\n",
              "</style>\n",
              "<table border=\"1\" class=\"dataframe\">\n",
              "  <thead>\n",
              "    <tr style=\"text-align: right;\">\n",
              "      <th></th>\n",
              "      <th>administrator</th>\n",
              "      <th>artist</th>\n",
              "      <th>doctor</th>\n",
              "      <th>educator</th>\n",
              "      <th>engineer</th>\n",
              "      <th>entertainment</th>\n",
              "      <th>executive</th>\n",
              "      <th>healthcare</th>\n",
              "      <th>homemaker</th>\n",
              "      <th>lawyer</th>\n",
              "      <th>librarian</th>\n",
              "      <th>marketing</th>\n",
              "      <th>none</th>\n",
              "      <th>other</th>\n",
              "      <th>programmer</th>\n",
              "      <th>retired</th>\n",
              "      <th>salesman</th>\n",
              "      <th>scientist</th>\n",
              "      <th>student</th>\n",
              "      <th>technician</th>\n",
              "      <th>writer</th>\n",
              "    </tr>\n",
              "    <tr>\n",
              "      <th>user_id</th>\n",
              "      <th></th>\n",
              "      <th></th>\n",
              "      <th></th>\n",
              "      <th></th>\n",
              "      <th></th>\n",
              "      <th></th>\n",
              "      <th></th>\n",
              "      <th></th>\n",
              "      <th></th>\n",
              "      <th></th>\n",
              "      <th></th>\n",
              "      <th></th>\n",
              "      <th></th>\n",
              "      <th></th>\n",
              "      <th></th>\n",
              "      <th></th>\n",
              "      <th></th>\n",
              "      <th></th>\n",
              "      <th></th>\n",
              "      <th></th>\n",
              "      <th></th>\n",
              "    </tr>\n",
              "  </thead>\n",
              "  <tbody>\n",
              "    <tr>\n",
              "      <th>1</th>\n",
              "      <td>0.0</td>\n",
              "      <td>0.0</td>\n",
              "      <td>0.0</td>\n",
              "      <td>0.0</td>\n",
              "      <td>0.0</td>\n",
              "      <td>0.0</td>\n",
              "      <td>0.0</td>\n",
              "      <td>0.0</td>\n",
              "      <td>0.0</td>\n",
              "      <td>0.0</td>\n",
              "      <td>0.0</td>\n",
              "      <td>0.0</td>\n",
              "      <td>0.0</td>\n",
              "      <td>0.0</td>\n",
              "      <td>0.0</td>\n",
              "      <td>0.0</td>\n",
              "      <td>0.0</td>\n",
              "      <td>0.0</td>\n",
              "      <td>0.0</td>\n",
              "      <td>1.0</td>\n",
              "      <td>0.0</td>\n",
              "    </tr>\n",
              "    <tr>\n",
              "      <th>2</th>\n",
              "      <td>0.0</td>\n",
              "      <td>0.0</td>\n",
              "      <td>0.0</td>\n",
              "      <td>0.0</td>\n",
              "      <td>0.0</td>\n",
              "      <td>0.0</td>\n",
              "      <td>0.0</td>\n",
              "      <td>0.0</td>\n",
              "      <td>0.0</td>\n",
              "      <td>0.0</td>\n",
              "      <td>0.0</td>\n",
              "      <td>0.0</td>\n",
              "      <td>0.0</td>\n",
              "      <td>1.0</td>\n",
              "      <td>0.0</td>\n",
              "      <td>0.0</td>\n",
              "      <td>0.0</td>\n",
              "      <td>0.0</td>\n",
              "      <td>0.0</td>\n",
              "      <td>0.0</td>\n",
              "      <td>0.0</td>\n",
              "    </tr>\n",
              "    <tr>\n",
              "      <th>3</th>\n",
              "      <td>0.0</td>\n",
              "      <td>0.0</td>\n",
              "      <td>0.0</td>\n",
              "      <td>0.0</td>\n",
              "      <td>0.0</td>\n",
              "      <td>0.0</td>\n",
              "      <td>0.0</td>\n",
              "      <td>0.0</td>\n",
              "      <td>0.0</td>\n",
              "      <td>0.0</td>\n",
              "      <td>0.0</td>\n",
              "      <td>0.0</td>\n",
              "      <td>0.0</td>\n",
              "      <td>0.0</td>\n",
              "      <td>0.0</td>\n",
              "      <td>0.0</td>\n",
              "      <td>0.0</td>\n",
              "      <td>0.0</td>\n",
              "      <td>0.0</td>\n",
              "      <td>0.0</td>\n",
              "      <td>1.0</td>\n",
              "    </tr>\n",
              "    <tr>\n",
              "      <th>4</th>\n",
              "      <td>0.0</td>\n",
              "      <td>0.0</td>\n",
              "      <td>0.0</td>\n",
              "      <td>0.0</td>\n",
              "      <td>0.0</td>\n",
              "      <td>0.0</td>\n",
              "      <td>0.0</td>\n",
              "      <td>0.0</td>\n",
              "      <td>0.0</td>\n",
              "      <td>0.0</td>\n",
              "      <td>0.0</td>\n",
              "      <td>0.0</td>\n",
              "      <td>0.0</td>\n",
              "      <td>0.0</td>\n",
              "      <td>0.0</td>\n",
              "      <td>0.0</td>\n",
              "      <td>0.0</td>\n",
              "      <td>0.0</td>\n",
              "      <td>0.0</td>\n",
              "      <td>1.0</td>\n",
              "      <td>0.0</td>\n",
              "    </tr>\n",
              "    <tr>\n",
              "      <th>5</th>\n",
              "      <td>0.0</td>\n",
              "      <td>0.0</td>\n",
              "      <td>0.0</td>\n",
              "      <td>0.0</td>\n",
              "      <td>0.0</td>\n",
              "      <td>0.0</td>\n",
              "      <td>0.0</td>\n",
              "      <td>0.0</td>\n",
              "      <td>0.0</td>\n",
              "      <td>0.0</td>\n",
              "      <td>0.0</td>\n",
              "      <td>0.0</td>\n",
              "      <td>0.0</td>\n",
              "      <td>1.0</td>\n",
              "      <td>0.0</td>\n",
              "      <td>0.0</td>\n",
              "      <td>0.0</td>\n",
              "      <td>0.0</td>\n",
              "      <td>0.0</td>\n",
              "      <td>0.0</td>\n",
              "      <td>0.0</td>\n",
              "    </tr>\n",
              "  </tbody>\n",
              "</table>\n",
              "</div>"
            ],
            "text/plain": [
              "         administrator  artist  doctor  ...  student  technician  writer\n",
              "user_id                                 ...                             \n",
              "1                  0.0     0.0     0.0  ...      0.0         1.0     0.0\n",
              "2                  0.0     0.0     0.0  ...      0.0         0.0     0.0\n",
              "3                  0.0     0.0     0.0  ...      0.0         0.0     1.0\n",
              "4                  0.0     0.0     0.0  ...      0.0         1.0     0.0\n",
              "5                  0.0     0.0     0.0  ...      0.0         0.0     0.0\n",
              "\n",
              "[5 rows x 21 columns]"
            ]
          },
          "metadata": {
            "tags": []
          },
          "execution_count": 46
        }
      ]
    },
    {
      "cell_type": "markdown",
      "metadata": {
        "id": "6M8uTSUaivsr"
      },
      "source": [
        "Genders"
      ]
    },
    {
      "cell_type": "code",
      "metadata": {
        "id": "S6T12j2slAM5",
        "colab": {
          "base_uri": "https://localhost:8080/",
          "height": 235
        },
        "outputId": "c92bcc40-9bcb-4d23-a901-a1631a224334"
      },
      "source": [
        "gender_df = pd.DataFrame(columns = genders, index = df.index)\n",
        "# Using SKLearn, one can easily convert categorical values to binary values\n",
        "values = np.array(list(user['gender'].values))\n",
        "label_encoder = LabelEncoder()\n",
        "\n",
        "integer_encoded = label_encoder.fit_transform(values)\n",
        "# binary encode\n",
        "onehot_encoder = OneHotEncoder(sparse=False)\n",
        "integer_encoded = integer_encoded.reshape(len(integer_encoded), 1)\n",
        "onehot_encoded = onehot_encoder.fit_transform(integer_encoded)\n",
        "\n",
        "# Building dataframe\n",
        "gender_df[list(genders)] = onehot_encoded\n",
        "gender_df.head()"
      ],
      "execution_count": 47,
      "outputs": [
        {
          "output_type": "execute_result",
          "data": {
            "text/html": [
              "<div>\n",
              "<style scoped>\n",
              "    .dataframe tbody tr th:only-of-type {\n",
              "        vertical-align: middle;\n",
              "    }\n",
              "\n",
              "    .dataframe tbody tr th {\n",
              "        vertical-align: top;\n",
              "    }\n",
              "\n",
              "    .dataframe thead th {\n",
              "        text-align: right;\n",
              "    }\n",
              "</style>\n",
              "<table border=\"1\" class=\"dataframe\">\n",
              "  <thead>\n",
              "    <tr style=\"text-align: right;\">\n",
              "      <th></th>\n",
              "      <th>F</th>\n",
              "      <th>M</th>\n",
              "    </tr>\n",
              "    <tr>\n",
              "      <th>user_id</th>\n",
              "      <th></th>\n",
              "      <th></th>\n",
              "    </tr>\n",
              "  </thead>\n",
              "  <tbody>\n",
              "    <tr>\n",
              "      <th>1</th>\n",
              "      <td>0.0</td>\n",
              "      <td>1.0</td>\n",
              "    </tr>\n",
              "    <tr>\n",
              "      <th>2</th>\n",
              "      <td>1.0</td>\n",
              "      <td>0.0</td>\n",
              "    </tr>\n",
              "    <tr>\n",
              "      <th>3</th>\n",
              "      <td>0.0</td>\n",
              "      <td>1.0</td>\n",
              "    </tr>\n",
              "    <tr>\n",
              "      <th>4</th>\n",
              "      <td>0.0</td>\n",
              "      <td>1.0</td>\n",
              "    </tr>\n",
              "    <tr>\n",
              "      <th>5</th>\n",
              "      <td>1.0</td>\n",
              "      <td>0.0</td>\n",
              "    </tr>\n",
              "  </tbody>\n",
              "</table>\n",
              "</div>"
            ],
            "text/plain": [
              "           F    M\n",
              "user_id          \n",
              "1        0.0  1.0\n",
              "2        1.0  0.0\n",
              "3        0.0  1.0\n",
              "4        0.0  1.0\n",
              "5        1.0  0.0"
            ]
          },
          "metadata": {
            "tags": []
          },
          "execution_count": 47
        }
      ]
    },
    {
      "cell_type": "markdown",
      "metadata": {
        "id": "6bGrvjgwlP8E"
      },
      "source": [
        "Age"
      ]
    },
    {
      "cell_type": "code",
      "metadata": {
        "id": "IyxTKa7DzGHN"
      },
      "source": [
        "user2 = user\n",
        "for i in range(len(user2)):\n",
        "  age = user2.loc[i]['age']\n",
        "  if age < 15:\n",
        "    user2.iloc[i, user2.columns.get_loc('age')] = 'child'\n",
        "  elif age >= 15 and age < 25:\n",
        "    user2.iloc[i, user2.columns.get_loc('age')] = 'young'\n",
        "  elif age >= 25 and age < 64:\n",
        "    user2.iloc[i, user2.columns.get_loc('age')] = 'adult'\n",
        "  else:\n",
        "    user2.iloc[i, user2.columns.get_loc('age')] = 'senior'"
      ],
      "execution_count": 48,
      "outputs": []
    },
    {
      "cell_type": "code",
      "metadata": {
        "id": "W5Bw7_tq0N6g",
        "colab": {
          "base_uri": "https://localhost:8080/",
          "height": 235
        },
        "outputId": "b34521a8-52b1-46b4-be82-eee2d83b7c33"
      },
      "source": [
        "age_df = pd.DataFrame(columns = ages, index = df.index)\n",
        "# Using SKLearn, one can easily convert categorical values to binary values\n",
        "values = np.array(list(user2['age'].values))\n",
        "label_encoder = LabelEncoder()\n",
        "\n",
        "integer_encoded = label_encoder.fit_transform(values)\n",
        "# binary encode\n",
        "onehot_encoder = OneHotEncoder(sparse=False)\n",
        "integer_encoded = integer_encoded.reshape(len(integer_encoded), 1)\n",
        "onehot_encoded = onehot_encoder.fit_transform(integer_encoded)\n",
        "\n",
        "# Building dataframe\n",
        "age_df[list(ages)] = onehot_encoded\n",
        "age_df.head()"
      ],
      "execution_count": 49,
      "outputs": [
        {
          "output_type": "execute_result",
          "data": {
            "text/html": [
              "<div>\n",
              "<style scoped>\n",
              "    .dataframe tbody tr th:only-of-type {\n",
              "        vertical-align: middle;\n",
              "    }\n",
              "\n",
              "    .dataframe tbody tr th {\n",
              "        vertical-align: top;\n",
              "    }\n",
              "\n",
              "    .dataframe thead th {\n",
              "        text-align: right;\n",
              "    }\n",
              "</style>\n",
              "<table border=\"1\" class=\"dataframe\">\n",
              "  <thead>\n",
              "    <tr style=\"text-align: right;\">\n",
              "      <th></th>\n",
              "      <th>adult</th>\n",
              "      <th>child</th>\n",
              "      <th>senior</th>\n",
              "      <th>young</th>\n",
              "    </tr>\n",
              "    <tr>\n",
              "      <th>user_id</th>\n",
              "      <th></th>\n",
              "      <th></th>\n",
              "      <th></th>\n",
              "      <th></th>\n",
              "    </tr>\n",
              "  </thead>\n",
              "  <tbody>\n",
              "    <tr>\n",
              "      <th>1</th>\n",
              "      <td>0.0</td>\n",
              "      <td>0.0</td>\n",
              "      <td>0.0</td>\n",
              "      <td>1.0</td>\n",
              "    </tr>\n",
              "    <tr>\n",
              "      <th>2</th>\n",
              "      <td>1.0</td>\n",
              "      <td>0.0</td>\n",
              "      <td>0.0</td>\n",
              "      <td>0.0</td>\n",
              "    </tr>\n",
              "    <tr>\n",
              "      <th>3</th>\n",
              "      <td>0.0</td>\n",
              "      <td>0.0</td>\n",
              "      <td>0.0</td>\n",
              "      <td>1.0</td>\n",
              "    </tr>\n",
              "    <tr>\n",
              "      <th>4</th>\n",
              "      <td>0.0</td>\n",
              "      <td>0.0</td>\n",
              "      <td>0.0</td>\n",
              "      <td>1.0</td>\n",
              "    </tr>\n",
              "    <tr>\n",
              "      <th>5</th>\n",
              "      <td>1.0</td>\n",
              "      <td>0.0</td>\n",
              "      <td>0.0</td>\n",
              "      <td>0.0</td>\n",
              "    </tr>\n",
              "  </tbody>\n",
              "</table>\n",
              "</div>"
            ],
            "text/plain": [
              "         adult  child  senior  young\n",
              "user_id                             \n",
              "1          0.0    0.0     0.0    1.0\n",
              "2          1.0    0.0     0.0    0.0\n",
              "3          0.0    0.0     0.0    1.0\n",
              "4          0.0    0.0     0.0    1.0\n",
              "5          1.0    0.0     0.0    0.0"
            ]
          },
          "metadata": {
            "tags": []
          },
          "execution_count": 49
        }
      ]
    },
    {
      "cell_type": "markdown",
      "metadata": {
        "id": "NNyeDwwImHvv"
      },
      "source": [
        "#### Creating user-profile"
      ]
    },
    {
      "cell_type": "markdown",
      "metadata": {
        "id": "Fs__nRji3aHC"
      },
      "source": [
        "This dataframe conveys the characteristic of each user. It will later be added to the ratings"
      ]
    },
    {
      "cell_type": "code",
      "metadata": {
        "id": "ljloRrPfmaf7",
        "colab": {
          "base_uri": "https://localhost:8080/",
          "height": 255
        },
        "outputId": "a2daf53e-deb0-4278-f957-0d4880e45d36"
      },
      "source": [
        "# Adding occupations\n",
        "user_profile = pd.concat([occupations_df, gender_df, age_df], ignore_index=False, axis = 1)\n",
        "user_profile.head()"
      ],
      "execution_count": 50,
      "outputs": [
        {
          "output_type": "execute_result",
          "data": {
            "text/html": [
              "<div>\n",
              "<style scoped>\n",
              "    .dataframe tbody tr th:only-of-type {\n",
              "        vertical-align: middle;\n",
              "    }\n",
              "\n",
              "    .dataframe tbody tr th {\n",
              "        vertical-align: top;\n",
              "    }\n",
              "\n",
              "    .dataframe thead th {\n",
              "        text-align: right;\n",
              "    }\n",
              "</style>\n",
              "<table border=\"1\" class=\"dataframe\">\n",
              "  <thead>\n",
              "    <tr style=\"text-align: right;\">\n",
              "      <th></th>\n",
              "      <th>administrator</th>\n",
              "      <th>artist</th>\n",
              "      <th>doctor</th>\n",
              "      <th>educator</th>\n",
              "      <th>engineer</th>\n",
              "      <th>entertainment</th>\n",
              "      <th>executive</th>\n",
              "      <th>healthcare</th>\n",
              "      <th>homemaker</th>\n",
              "      <th>lawyer</th>\n",
              "      <th>librarian</th>\n",
              "      <th>marketing</th>\n",
              "      <th>none</th>\n",
              "      <th>other</th>\n",
              "      <th>programmer</th>\n",
              "      <th>retired</th>\n",
              "      <th>salesman</th>\n",
              "      <th>scientist</th>\n",
              "      <th>student</th>\n",
              "      <th>technician</th>\n",
              "      <th>writer</th>\n",
              "      <th>F</th>\n",
              "      <th>M</th>\n",
              "      <th>adult</th>\n",
              "      <th>child</th>\n",
              "      <th>senior</th>\n",
              "      <th>young</th>\n",
              "    </tr>\n",
              "    <tr>\n",
              "      <th>user_id</th>\n",
              "      <th></th>\n",
              "      <th></th>\n",
              "      <th></th>\n",
              "      <th></th>\n",
              "      <th></th>\n",
              "      <th></th>\n",
              "      <th></th>\n",
              "      <th></th>\n",
              "      <th></th>\n",
              "      <th></th>\n",
              "      <th></th>\n",
              "      <th></th>\n",
              "      <th></th>\n",
              "      <th></th>\n",
              "      <th></th>\n",
              "      <th></th>\n",
              "      <th></th>\n",
              "      <th></th>\n",
              "      <th></th>\n",
              "      <th></th>\n",
              "      <th></th>\n",
              "      <th></th>\n",
              "      <th></th>\n",
              "      <th></th>\n",
              "      <th></th>\n",
              "      <th></th>\n",
              "      <th></th>\n",
              "    </tr>\n",
              "  </thead>\n",
              "  <tbody>\n",
              "    <tr>\n",
              "      <th>1</th>\n",
              "      <td>0.0</td>\n",
              "      <td>0.0</td>\n",
              "      <td>0.0</td>\n",
              "      <td>0.0</td>\n",
              "      <td>0.0</td>\n",
              "      <td>0.0</td>\n",
              "      <td>0.0</td>\n",
              "      <td>0.0</td>\n",
              "      <td>0.0</td>\n",
              "      <td>0.0</td>\n",
              "      <td>0.0</td>\n",
              "      <td>0.0</td>\n",
              "      <td>0.0</td>\n",
              "      <td>0.0</td>\n",
              "      <td>0.0</td>\n",
              "      <td>0.0</td>\n",
              "      <td>0.0</td>\n",
              "      <td>0.0</td>\n",
              "      <td>0.0</td>\n",
              "      <td>1.0</td>\n",
              "      <td>0.0</td>\n",
              "      <td>0.0</td>\n",
              "      <td>1.0</td>\n",
              "      <td>0.0</td>\n",
              "      <td>0.0</td>\n",
              "      <td>0.0</td>\n",
              "      <td>1.0</td>\n",
              "    </tr>\n",
              "    <tr>\n",
              "      <th>2</th>\n",
              "      <td>0.0</td>\n",
              "      <td>0.0</td>\n",
              "      <td>0.0</td>\n",
              "      <td>0.0</td>\n",
              "      <td>0.0</td>\n",
              "      <td>0.0</td>\n",
              "      <td>0.0</td>\n",
              "      <td>0.0</td>\n",
              "      <td>0.0</td>\n",
              "      <td>0.0</td>\n",
              "      <td>0.0</td>\n",
              "      <td>0.0</td>\n",
              "      <td>0.0</td>\n",
              "      <td>1.0</td>\n",
              "      <td>0.0</td>\n",
              "      <td>0.0</td>\n",
              "      <td>0.0</td>\n",
              "      <td>0.0</td>\n",
              "      <td>0.0</td>\n",
              "      <td>0.0</td>\n",
              "      <td>0.0</td>\n",
              "      <td>1.0</td>\n",
              "      <td>0.0</td>\n",
              "      <td>1.0</td>\n",
              "      <td>0.0</td>\n",
              "      <td>0.0</td>\n",
              "      <td>0.0</td>\n",
              "    </tr>\n",
              "    <tr>\n",
              "      <th>3</th>\n",
              "      <td>0.0</td>\n",
              "      <td>0.0</td>\n",
              "      <td>0.0</td>\n",
              "      <td>0.0</td>\n",
              "      <td>0.0</td>\n",
              "      <td>0.0</td>\n",
              "      <td>0.0</td>\n",
              "      <td>0.0</td>\n",
              "      <td>0.0</td>\n",
              "      <td>0.0</td>\n",
              "      <td>0.0</td>\n",
              "      <td>0.0</td>\n",
              "      <td>0.0</td>\n",
              "      <td>0.0</td>\n",
              "      <td>0.0</td>\n",
              "      <td>0.0</td>\n",
              "      <td>0.0</td>\n",
              "      <td>0.0</td>\n",
              "      <td>0.0</td>\n",
              "      <td>0.0</td>\n",
              "      <td>1.0</td>\n",
              "      <td>0.0</td>\n",
              "      <td>1.0</td>\n",
              "      <td>0.0</td>\n",
              "      <td>0.0</td>\n",
              "      <td>0.0</td>\n",
              "      <td>1.0</td>\n",
              "    </tr>\n",
              "    <tr>\n",
              "      <th>4</th>\n",
              "      <td>0.0</td>\n",
              "      <td>0.0</td>\n",
              "      <td>0.0</td>\n",
              "      <td>0.0</td>\n",
              "      <td>0.0</td>\n",
              "      <td>0.0</td>\n",
              "      <td>0.0</td>\n",
              "      <td>0.0</td>\n",
              "      <td>0.0</td>\n",
              "      <td>0.0</td>\n",
              "      <td>0.0</td>\n",
              "      <td>0.0</td>\n",
              "      <td>0.0</td>\n",
              "      <td>0.0</td>\n",
              "      <td>0.0</td>\n",
              "      <td>0.0</td>\n",
              "      <td>0.0</td>\n",
              "      <td>0.0</td>\n",
              "      <td>0.0</td>\n",
              "      <td>1.0</td>\n",
              "      <td>0.0</td>\n",
              "      <td>0.0</td>\n",
              "      <td>1.0</td>\n",
              "      <td>0.0</td>\n",
              "      <td>0.0</td>\n",
              "      <td>0.0</td>\n",
              "      <td>1.0</td>\n",
              "    </tr>\n",
              "    <tr>\n",
              "      <th>5</th>\n",
              "      <td>0.0</td>\n",
              "      <td>0.0</td>\n",
              "      <td>0.0</td>\n",
              "      <td>0.0</td>\n",
              "      <td>0.0</td>\n",
              "      <td>0.0</td>\n",
              "      <td>0.0</td>\n",
              "      <td>0.0</td>\n",
              "      <td>0.0</td>\n",
              "      <td>0.0</td>\n",
              "      <td>0.0</td>\n",
              "      <td>0.0</td>\n",
              "      <td>0.0</td>\n",
              "      <td>1.0</td>\n",
              "      <td>0.0</td>\n",
              "      <td>0.0</td>\n",
              "      <td>0.0</td>\n",
              "      <td>0.0</td>\n",
              "      <td>0.0</td>\n",
              "      <td>0.0</td>\n",
              "      <td>0.0</td>\n",
              "      <td>1.0</td>\n",
              "      <td>0.0</td>\n",
              "      <td>1.0</td>\n",
              "      <td>0.0</td>\n",
              "      <td>0.0</td>\n",
              "      <td>0.0</td>\n",
              "    </tr>\n",
              "  </tbody>\n",
              "</table>\n",
              "</div>"
            ],
            "text/plain": [
              "         administrator  artist  doctor  educator  ...  adult  child  senior  young\n",
              "user_id                                           ...                             \n",
              "1                  0.0     0.0     0.0       0.0  ...    0.0    0.0     0.0    1.0\n",
              "2                  0.0     0.0     0.0       0.0  ...    1.0    0.0     0.0    0.0\n",
              "3                  0.0     0.0     0.0       0.0  ...    0.0    0.0     0.0    1.0\n",
              "4                  0.0     0.0     0.0       0.0  ...    0.0    0.0     0.0    1.0\n",
              "5                  0.0     0.0     0.0       0.0  ...    1.0    0.0     0.0    0.0\n",
              "\n",
              "[5 rows x 27 columns]"
            ]
          },
          "metadata": {
            "tags": []
          },
          "execution_count": 50
        }
      ]
    },
    {
      "cell_type": "markdown",
      "metadata": {
        "id": "MFEFQJU13hYW"
      },
      "source": [
        "### Q4. Combining Auxiliary Information into Autoencoder"
      ]
    },
    {
      "cell_type": "markdown",
      "metadata": {
        "id": "kUyA0Ayjlplj"
      },
      "source": [
        "Firstly, for each user I build a user profile dataframe with the encoding explained in Q3, then to the normalize training and testing data, I attached the user profile to the users. Then, the model architecture from Q1 was used to predict the ratings."
      ]
    },
    {
      "cell_type": "code",
      "metadata": {
        "id": "MIBclX_K3nI4"
      },
      "source": [
        "# Adding profile to train, test and val sets\n",
        "profile_values = user_profile.values\n",
        "\n",
        "x_train_q4 = np.concatenate((x_train, profile_values), axis = 1)\n",
        "x_test_q4 = np.concatenate((x_test, profile_values), axis = 1)"
      ],
      "execution_count": 51,
      "outputs": []
    },
    {
      "cell_type": "code",
      "metadata": {
        "id": "Vcneb07n4Kz7"
      },
      "source": [
        "# Defining autoencoder again\n",
        "train_size_q4 = x_train_q4.shape[1]\n",
        "\n",
        "## Building model\n",
        "simple_autoencoder = Sequential([\n",
        "    ## Encoder\n",
        "    Dense(encoding_dim, input_shape = (train_size_q4, ), activation = 'tanh'),\n",
        "    \n",
        "    ## Decoder    \n",
        "    Dense(train_size_q4, activation = 'sigmoid'),\n",
        "])"
      ],
      "execution_count": 52,
      "outputs": []
    },
    {
      "cell_type": "code",
      "metadata": {
        "id": "DgrybEqa4rn_",
        "colab": {
          "base_uri": "https://localhost:8080/"
        },
        "outputId": "ed0dd2bf-e949-4596-a9f8-9c3ec379ebb3"
      },
      "source": [
        "## Train model with train set.\n",
        "simple_autoencoder.compile(loss = rmse,\n",
        "                          optimizer = Adam())\n",
        "\n",
        "batch_size = 128\n",
        "epochs = 200\n",
        "\n",
        "simple_autoencoder.fit(x_train_q4, x_train_q4,\n",
        "                batch_size=batch_size,\n",
        "                epochs=epochs,\n",
        "                shuffle=True,\n",
        "                verbose=0,\n",
        "                validation_data=(x_test_q4, x_test_q4))"
      ],
      "execution_count": 53,
      "outputs": [
        {
          "output_type": "execute_result",
          "data": {
            "text/plain": [
              "<tensorflow.python.keras.callbacks.History at 0x7f00da8a8978>"
            ]
          },
          "metadata": {
            "tags": []
          },
          "execution_count": 53
        }
      ]
    },
    {
      "cell_type": "code",
      "metadata": {
        "id": "ciYPBSWQ4vjZ",
        "colab": {
          "base_uri": "https://localhost:8080/"
        },
        "outputId": "109d221f-0bc8-445a-8a55-7e8f0b611a08"
      },
      "source": [
        "# Testing\n",
        "y_pred = simple_autoencoder.predict(x_test_q4)\n",
        "y_pred = y_pred[:,:len(test_df.columns)] #test size\n",
        "y_pred[y_true == 0] = 0\n",
        "\n",
        "## Calculating error: RMSE formula\n",
        "q4_loss = test_rmse(y_true, y_pred)\n",
        "print(q4_loss)"
      ],
      "execution_count": 54,
      "outputs": [
        {
          "output_type": "stream",
          "text": [
            "0.5561152069482995\n"
          ],
          "name": "stdout"
        }
      ]
    },
    {
      "cell_type": "code",
      "metadata": {
        "id": "xfeXCXfB9pul",
        "colab": {
          "base_uri": "https://localhost:8080/"
        },
        "outputId": "4f67f033-9c95-4d72-b9ba-5d35798c4369"
      },
      "source": [
        "print(q1_loss - q4_loss)"
      ],
      "execution_count": 55,
      "outputs": [
        {
          "output_type": "stream",
          "text": [
            "-0.0013576902459961904\n"
          ],
          "name": "stdout"
        }
      ]
    },
    {
      "cell_type": "markdown",
      "metadata": {
        "id": "te3Y3MEZ5hGg"
      },
      "source": [
        "### Q5. Cold-Start Problem"
      ]
    },
    {
      "cell_type": "markdown",
      "metadata": {
        "id": "j-ncNFJc4XBo"
      },
      "source": [
        "To get the users (from testing set) with less sparsity, I counted the numbers of zeros in their ratings and get those who have less zeros. Then, I randomly convert the ratings zero by multiplying the original ratings with a mask consisting of 80% zeros and 20% ones."
      ]
    },
    {
      "cell_type": "code",
      "metadata": {
        "id": "ktVnK9mL5MLS"
      },
      "source": [
        "# Finding the low-sparsity users by\n",
        "temp = {\n",
        "    'user': test_df.index,\n",
        "    'number_zeros': (test_df[test_df.columns] == 0).sum(axis=1)\n",
        "}\n",
        "\n",
        "sparcity_df = pd.DataFrame(temp, columns = temp.keys())"
      ],
      "execution_count": 56,
      "outputs": []
    },
    {
      "cell_type": "code",
      "metadata": {
        "id": "ozZSOERi7g9S",
        "colab": {
          "base_uri": "https://localhost:8080/"
        },
        "outputId": "63e76f25-8eb1-48ea-cbce-ddfe0accfe41"
      },
      "source": [
        "low_sparcity_users = sparcity_df.sort_values('number_zeros').head(5)['user'].tolist()\n",
        "print(low_sparcity_users)"
      ],
      "execution_count": 57,
      "outputs": [
        {
          "output_type": "stream",
          "text": [
            "[405, 234, 450, 13, 7]\n"
          ],
          "name": "stdout"
        }
      ]
    },
    {
      "cell_type": "code",
      "metadata": {
        "id": "KnGXZMO589ZK"
      },
      "source": [
        "lsu_df = test_df.loc[low_sparcity_users]"
      ],
      "execution_count": 58,
      "outputs": []
    },
    {
      "cell_type": "code",
      "metadata": {
        "id": "ZIOTe6gkADKt"
      },
      "source": [
        "mask1 = np.random.choice(2, lsu_df.shape[1], p=[0.8, 0.2])\n",
        "mask2 = np.random.choice(2, lsu_df.shape[1], p=[0.8, 0.2])\n",
        "mask3 = np.random.choice(2, lsu_df.shape[1], p=[0.8, 0.2])\n",
        "mask4 = np.random.choice(2, lsu_df.shape[1], p=[0.8, 0.2])\n",
        "mask5 = np.random.choice(2, lsu_df.shape[1], p=[0.8, 0.2])\n",
        "mask = np.concatenate((mask1, mask2, mask3, mask4, mask5), axis = 0).reshape(lsu_df.shape)"
      ],
      "execution_count": 59,
      "outputs": []
    },
    {
      "cell_type": "code",
      "metadata": {
        "id": "dJQkB1jiCtKc"
      },
      "source": [
        "lsu_zeros = np.multiply(lsu_df.values, mask)"
      ],
      "execution_count": 60,
      "outputs": []
    },
    {
      "cell_type": "code",
      "metadata": {
        "id": "yGS8fPCJ5RxS"
      },
      "source": [
        "new_lsu_df = test_df.loc[low_sparcity_users]\n",
        "new_lsu_df[new_lsu_df.columns] = lsu_zeros"
      ],
      "execution_count": 61,
      "outputs": []
    },
    {
      "cell_type": "markdown",
      "metadata": {
        "id": "MY9TEZJf5qnp"
      },
      "source": [
        "Adding the user profile information"
      ]
    },
    {
      "cell_type": "code",
      "metadata": {
        "id": "mHXo_ovp5odJ"
      },
      "source": [
        "zeros = np.zeros((5, train_size - new_lsu_df.shape[1]))\n",
        "x_lsu = np.concatenate((new_lsu_df.values, zeros), axis = 1)"
      ],
      "execution_count": 62,
      "outputs": []
    },
    {
      "cell_type": "code",
      "metadata": {
        "id": "8WWQqOcE5-CA"
      },
      "source": [
        "profile_lsu = user_profile.loc[low_sparcity_users].values\n",
        "x_lsu = np.concatenate((x_lsu, profile_lsu), axis = 1)"
      ],
      "execution_count": 63,
      "outputs": []
    },
    {
      "cell_type": "markdown",
      "metadata": {
        "id": "Yjnvj3Zp6vKn"
      },
      "source": [
        "Predict ratings"
      ]
    },
    {
      "cell_type": "code",
      "metadata": {
        "id": "HUN6xp2P67G_"
      },
      "source": [
        "y_pred = simple_autoencoder.predict(x_lsu*5)\n",
        "y_pred = y_pred[:, :lsu_df.shape[1]] #test size\n",
        "y_pred[lsu_df.values == 0] = 0"
      ],
      "execution_count": 64,
      "outputs": []
    },
    {
      "cell_type": "code",
      "metadata": {
        "id": "DS2Y1okTbYC-",
        "colab": {
          "base_uri": "https://localhost:8080/"
        },
        "outputId": "ad68ab33-80ce-4273-c822-73bbb0ba9012"
      },
      "source": [
        "## Calculating error: RMSE formula\n",
        "q5_loss = test_rmse(lsu_df.values, y_pred)\n",
        "print(q5_loss)"
      ],
      "execution_count": 65,
      "outputs": [
        {
          "output_type": "stream",
          "text": [
            "0.4768370001356463\n"
          ],
          "name": "stdout"
        }
      ]
    },
    {
      "cell_type": "code",
      "metadata": {
        "id": "Fg5rlAXklcif",
        "colab": {
          "base_uri": "https://localhost:8080/",
          "height": 284
        },
        "outputId": "2c7876b1-c851-43a9-c288-1a259ffdb085"
      },
      "source": [
        "# Actual ratings\n",
        "actual_ratings = copy.deepcopy(lsu_df)\n",
        "\n",
        "# Predicted ratings\n",
        "pred_ratings = pd.DataFrame(index = actual_ratings.index, columns = actual_ratings.columns)\n",
        "pred_ratings[:] = y_pred\n",
        "pred_ratings.head()"
      ],
      "execution_count": 66,
      "outputs": [
        {
          "output_type": "execute_result",
          "data": {
            "text/html": [
              "<div>\n",
              "<style scoped>\n",
              "    .dataframe tbody tr th:only-of-type {\n",
              "        vertical-align: middle;\n",
              "    }\n",
              "\n",
              "    .dataframe tbody tr th {\n",
              "        vertical-align: top;\n",
              "    }\n",
              "\n",
              "    .dataframe thead th {\n",
              "        text-align: right;\n",
              "    }\n",
              "</style>\n",
              "<table border=\"1\" class=\"dataframe\">\n",
              "  <thead>\n",
              "    <tr style=\"text-align: right;\">\n",
              "      <th></th>\n",
              "      <th>1422</th>\n",
              "      <th>169</th>\n",
              "      <th>1402</th>\n",
              "      <th>1401</th>\n",
              "      <th>399</th>\n",
              "      <th>1332</th>\n",
              "      <th>398</th>\n",
              "      <th>1488</th>\n",
              "      <th>1487</th>\n",
              "      <th>1436</th>\n",
              "      <th>397</th>\n",
              "      <th>467</th>\n",
              "      <th>468</th>\n",
              "      <th>470</th>\n",
              "      <th>1539</th>\n",
              "      <th>469</th>\n",
              "      <th>1141</th>\n",
              "      <th>701</th>\n",
              "      <th>735</th>\n",
              "      <th>576</th>\n",
              "      <th>577</th>\n",
              "      <th>78</th>\n",
              "      <th>79</th>\n",
              "      <th>80</th>\n",
              "      <th>732</th>\n",
              "      <th>734</th>\n",
              "      <th>82</th>\n",
              "      <th>582</th>\n",
              "      <th>1146</th>\n",
              "      <th>83</th>\n",
              "      <th>578</th>\n",
              "      <th>736</th>\n",
              "      <th>579</th>\n",
              "      <th>581</th>\n",
              "      <th>942</th>\n",
              "      <th>77</th>\n",
              "      <th>963</th>\n",
              "      <th>962</th>\n",
              "      <th>961</th>\n",
              "      <th>684</th>\n",
              "      <th>...</th>\n",
              "      <th>1451</th>\n",
              "      <th>1116</th>\n",
              "      <th>432</th>\n",
              "      <th>494</th>\n",
              "      <th>607</th>\n",
              "      <th>478</th>\n",
              "      <th>404</th>\n",
              "      <th>524</th>\n",
              "      <th>1172</th>\n",
              "      <th>836</th>\n",
              "      <th>1473</th>\n",
              "      <th>132</th>\n",
              "      <th>133</th>\n",
              "      <th>1122</th>\n",
              "      <th>136</th>\n",
              "      <th>491</th>\n",
              "      <th>497</th>\n",
              "      <th>633</th>\n",
              "      <th>612</th>\n",
              "      <th>1458</th>\n",
              "      <th>99</th>\n",
              "      <th>1286</th>\n",
              "      <th>967</th>\n",
              "      <th>613</th>\n",
              "      <th>1461</th>\n",
              "      <th>671</th>\n",
              "      <th>1203</th>\n",
              "      <th>615</th>\n",
              "      <th>835</th>\n",
              "      <th>1397</th>\n",
              "      <th>604</th>\n",
              "      <th>493</th>\n",
              "      <th>430</th>\n",
              "      <th>1580</th>\n",
              "      <th>1124</th>\n",
              "      <th>656</th>\n",
              "      <th>617</th>\n",
              "      <th>1542</th>\n",
              "      <th>675</th>\n",
              "      <th>267</th>\n",
              "    </tr>\n",
              "    <tr>\n",
              "      <th>user_id</th>\n",
              "      <th></th>\n",
              "      <th></th>\n",
              "      <th></th>\n",
              "      <th></th>\n",
              "      <th></th>\n",
              "      <th></th>\n",
              "      <th></th>\n",
              "      <th></th>\n",
              "      <th></th>\n",
              "      <th></th>\n",
              "      <th></th>\n",
              "      <th></th>\n",
              "      <th></th>\n",
              "      <th></th>\n",
              "      <th></th>\n",
              "      <th></th>\n",
              "      <th></th>\n",
              "      <th></th>\n",
              "      <th></th>\n",
              "      <th></th>\n",
              "      <th></th>\n",
              "      <th></th>\n",
              "      <th></th>\n",
              "      <th></th>\n",
              "      <th></th>\n",
              "      <th></th>\n",
              "      <th></th>\n",
              "      <th></th>\n",
              "      <th></th>\n",
              "      <th></th>\n",
              "      <th></th>\n",
              "      <th></th>\n",
              "      <th></th>\n",
              "      <th></th>\n",
              "      <th></th>\n",
              "      <th></th>\n",
              "      <th></th>\n",
              "      <th></th>\n",
              "      <th></th>\n",
              "      <th></th>\n",
              "      <th></th>\n",
              "      <th></th>\n",
              "      <th></th>\n",
              "      <th></th>\n",
              "      <th></th>\n",
              "      <th></th>\n",
              "      <th></th>\n",
              "      <th></th>\n",
              "      <th></th>\n",
              "      <th></th>\n",
              "      <th></th>\n",
              "      <th></th>\n",
              "      <th></th>\n",
              "      <th></th>\n",
              "      <th></th>\n",
              "      <th></th>\n",
              "      <th></th>\n",
              "      <th></th>\n",
              "      <th></th>\n",
              "      <th></th>\n",
              "      <th></th>\n",
              "      <th></th>\n",
              "      <th></th>\n",
              "      <th></th>\n",
              "      <th></th>\n",
              "      <th></th>\n",
              "      <th></th>\n",
              "      <th></th>\n",
              "      <th></th>\n",
              "      <th></th>\n",
              "      <th></th>\n",
              "      <th></th>\n",
              "      <th></th>\n",
              "      <th></th>\n",
              "      <th></th>\n",
              "      <th></th>\n",
              "      <th></th>\n",
              "      <th></th>\n",
              "      <th></th>\n",
              "      <th></th>\n",
              "      <th></th>\n",
              "    </tr>\n",
              "  </thead>\n",
              "  <tbody>\n",
              "    <tr>\n",
              "      <th>405</th>\n",
              "      <td>0.136835</td>\n",
              "      <td>0.006778</td>\n",
              "      <td>0.000000</td>\n",
              "      <td>0.000000</td>\n",
              "      <td>0.006541</td>\n",
              "      <td>0.0</td>\n",
              "      <td>0.011312</td>\n",
              "      <td>0.010982</td>\n",
              "      <td>0.005936</td>\n",
              "      <td>0.0</td>\n",
              "      <td>0.006847</td>\n",
              "      <td>0.005654</td>\n",
              "      <td>0.009566</td>\n",
              "      <td>0.008156</td>\n",
              "      <td>0.006573</td>\n",
              "      <td>0.006609</td>\n",
              "      <td>0.0</td>\n",
              "      <td>0.0</td>\n",
              "      <td>0.006624</td>\n",
              "      <td>0.00652</td>\n",
              "      <td>0.007313</td>\n",
              "      <td>0.006457</td>\n",
              "      <td>0.010181</td>\n",
              "      <td>0.008401</td>\n",
              "      <td>0.051078</td>\n",
              "      <td>0.023971</td>\n",
              "      <td>0.00566</td>\n",
              "      <td>0.005873</td>\n",
              "      <td>0.016165</td>\n",
              "      <td>0.005335</td>\n",
              "      <td>0.007073</td>\n",
              "      <td>0.025819</td>\n",
              "      <td>0.005788</td>\n",
              "      <td>0.006212</td>\n",
              "      <td>0.006755</td>\n",
              "      <td>0.017911</td>\n",
              "      <td>0.000000</td>\n",
              "      <td>0.0</td>\n",
              "      <td>0.0</td>\n",
              "      <td>0.00681</td>\n",
              "      <td>...</td>\n",
              "      <td>0.000000</td>\n",
              "      <td>0.000000</td>\n",
              "      <td>0.024274</td>\n",
              "      <td>0.000000</td>\n",
              "      <td>0.00000</td>\n",
              "      <td>0.000000</td>\n",
              "      <td>0.01206</td>\n",
              "      <td>0.074233</td>\n",
              "      <td>0.000000</td>\n",
              "      <td>0.000000</td>\n",
              "      <td>0.0</td>\n",
              "      <td>0.008282</td>\n",
              "      <td>0.000000</td>\n",
              "      <td>0.0</td>\n",
              "      <td>0.000000</td>\n",
              "      <td>0.000000</td>\n",
              "      <td>0.000000</td>\n",
              "      <td>0.000000</td>\n",
              "      <td>0.000000</td>\n",
              "      <td>0.00000</td>\n",
              "      <td>0.006982</td>\n",
              "      <td>0.000000</td>\n",
              "      <td>0.000000</td>\n",
              "      <td>0.000000</td>\n",
              "      <td>0.000000</td>\n",
              "      <td>0.129631</td>\n",
              "      <td>0.000000</td>\n",
              "      <td>0.000000</td>\n",
              "      <td>0.000000</td>\n",
              "      <td>0.000000</td>\n",
              "      <td>0.000000</td>\n",
              "      <td>0.000000</td>\n",
              "      <td>0.006212</td>\n",
              "      <td>0.045235</td>\n",
              "      <td>0.0</td>\n",
              "      <td>0.04457</td>\n",
              "      <td>0.000000</td>\n",
              "      <td>0.0</td>\n",
              "      <td>0.062753</td>\n",
              "      <td>0.0</td>\n",
              "    </tr>\n",
              "    <tr>\n",
              "      <th>234</th>\n",
              "      <td>0.000000</td>\n",
              "      <td>0.000000</td>\n",
              "      <td>0.000000</td>\n",
              "      <td>0.000000</td>\n",
              "      <td>0.000000</td>\n",
              "      <td>0.0</td>\n",
              "      <td>0.000000</td>\n",
              "      <td>0.000000</td>\n",
              "      <td>0.000000</td>\n",
              "      <td>0.0</td>\n",
              "      <td>0.000000</td>\n",
              "      <td>0.000000</td>\n",
              "      <td>0.000000</td>\n",
              "      <td>0.008156</td>\n",
              "      <td>0.000000</td>\n",
              "      <td>0.000000</td>\n",
              "      <td>0.0</td>\n",
              "      <td>0.0</td>\n",
              "      <td>0.006624</td>\n",
              "      <td>0.00000</td>\n",
              "      <td>0.000000</td>\n",
              "      <td>0.000000</td>\n",
              "      <td>0.010181</td>\n",
              "      <td>0.000000</td>\n",
              "      <td>0.051078</td>\n",
              "      <td>0.000000</td>\n",
              "      <td>0.00566</td>\n",
              "      <td>0.005873</td>\n",
              "      <td>0.000000</td>\n",
              "      <td>0.000000</td>\n",
              "      <td>0.000000</td>\n",
              "      <td>0.000000</td>\n",
              "      <td>0.000000</td>\n",
              "      <td>0.000000</td>\n",
              "      <td>0.006755</td>\n",
              "      <td>0.017911</td>\n",
              "      <td>0.030052</td>\n",
              "      <td>0.0</td>\n",
              "      <td>0.0</td>\n",
              "      <td>0.00000</td>\n",
              "      <td>...</td>\n",
              "      <td>0.107407</td>\n",
              "      <td>0.000000</td>\n",
              "      <td>0.024274</td>\n",
              "      <td>0.016506</td>\n",
              "      <td>0.03107</td>\n",
              "      <td>0.006098</td>\n",
              "      <td>0.01206</td>\n",
              "      <td>0.074233</td>\n",
              "      <td>0.006654</td>\n",
              "      <td>0.005842</td>\n",
              "      <td>0.0</td>\n",
              "      <td>0.008282</td>\n",
              "      <td>0.015153</td>\n",
              "      <td>0.0</td>\n",
              "      <td>0.006147</td>\n",
              "      <td>0.023623</td>\n",
              "      <td>0.028346</td>\n",
              "      <td>0.000000</td>\n",
              "      <td>0.010062</td>\n",
              "      <td>0.04604</td>\n",
              "      <td>0.006982</td>\n",
              "      <td>0.000000</td>\n",
              "      <td>0.000000</td>\n",
              "      <td>0.024702</td>\n",
              "      <td>0.009023</td>\n",
              "      <td>0.129631</td>\n",
              "      <td>0.041367</td>\n",
              "      <td>0.028801</td>\n",
              "      <td>0.011312</td>\n",
              "      <td>0.006968</td>\n",
              "      <td>0.005516</td>\n",
              "      <td>0.006515</td>\n",
              "      <td>0.006212</td>\n",
              "      <td>0.000000</td>\n",
              "      <td>0.0</td>\n",
              "      <td>0.04457</td>\n",
              "      <td>0.006538</td>\n",
              "      <td>0.0</td>\n",
              "      <td>0.062753</td>\n",
              "      <td>0.0</td>\n",
              "    </tr>\n",
              "    <tr>\n",
              "      <th>450</th>\n",
              "      <td>0.000000</td>\n",
              "      <td>0.006778</td>\n",
              "      <td>0.006794</td>\n",
              "      <td>0.006404</td>\n",
              "      <td>0.006541</td>\n",
              "      <td>0.0</td>\n",
              "      <td>0.000000</td>\n",
              "      <td>0.000000</td>\n",
              "      <td>0.000000</td>\n",
              "      <td>0.0</td>\n",
              "      <td>0.000000</td>\n",
              "      <td>0.005654</td>\n",
              "      <td>0.009566</td>\n",
              "      <td>0.008156</td>\n",
              "      <td>0.000000</td>\n",
              "      <td>0.006609</td>\n",
              "      <td>0.0</td>\n",
              "      <td>0.0</td>\n",
              "      <td>0.006624</td>\n",
              "      <td>0.00000</td>\n",
              "      <td>0.000000</td>\n",
              "      <td>0.006457</td>\n",
              "      <td>0.010181</td>\n",
              "      <td>0.008401</td>\n",
              "      <td>0.051078</td>\n",
              "      <td>0.023971</td>\n",
              "      <td>0.00566</td>\n",
              "      <td>0.005873</td>\n",
              "      <td>0.000000</td>\n",
              "      <td>0.005335</td>\n",
              "      <td>0.000000</td>\n",
              "      <td>0.025819</td>\n",
              "      <td>0.000000</td>\n",
              "      <td>0.000000</td>\n",
              "      <td>0.006755</td>\n",
              "      <td>0.017911</td>\n",
              "      <td>0.000000</td>\n",
              "      <td>0.0</td>\n",
              "      <td>0.0</td>\n",
              "      <td>0.00000</td>\n",
              "      <td>...</td>\n",
              "      <td>0.000000</td>\n",
              "      <td>0.007953</td>\n",
              "      <td>0.024274</td>\n",
              "      <td>0.016506</td>\n",
              "      <td>0.03107</td>\n",
              "      <td>0.006098</td>\n",
              "      <td>0.00000</td>\n",
              "      <td>0.000000</td>\n",
              "      <td>0.006654</td>\n",
              "      <td>0.000000</td>\n",
              "      <td>0.0</td>\n",
              "      <td>0.008282</td>\n",
              "      <td>0.015153</td>\n",
              "      <td>0.0</td>\n",
              "      <td>0.006147</td>\n",
              "      <td>0.023623</td>\n",
              "      <td>0.028346</td>\n",
              "      <td>0.006601</td>\n",
              "      <td>0.010062</td>\n",
              "      <td>0.00000</td>\n",
              "      <td>0.006982</td>\n",
              "      <td>0.045243</td>\n",
              "      <td>0.008215</td>\n",
              "      <td>0.024702</td>\n",
              "      <td>0.000000</td>\n",
              "      <td>0.129631</td>\n",
              "      <td>0.041367</td>\n",
              "      <td>0.000000</td>\n",
              "      <td>0.000000</td>\n",
              "      <td>0.000000</td>\n",
              "      <td>0.005516</td>\n",
              "      <td>0.006515</td>\n",
              "      <td>0.006212</td>\n",
              "      <td>0.000000</td>\n",
              "      <td>0.0</td>\n",
              "      <td>0.00000</td>\n",
              "      <td>0.000000</td>\n",
              "      <td>0.0</td>\n",
              "      <td>0.000000</td>\n",
              "      <td>0.0</td>\n",
              "    </tr>\n",
              "    <tr>\n",
              "      <th>13</th>\n",
              "      <td>0.000000</td>\n",
              "      <td>0.000000</td>\n",
              "      <td>0.000000</td>\n",
              "      <td>0.000000</td>\n",
              "      <td>0.000000</td>\n",
              "      <td>0.0</td>\n",
              "      <td>0.011312</td>\n",
              "      <td>0.000000</td>\n",
              "      <td>0.000000</td>\n",
              "      <td>0.0</td>\n",
              "      <td>0.000000</td>\n",
              "      <td>0.005654</td>\n",
              "      <td>0.000000</td>\n",
              "      <td>0.000000</td>\n",
              "      <td>0.000000</td>\n",
              "      <td>0.000000</td>\n",
              "      <td>0.0</td>\n",
              "      <td>0.0</td>\n",
              "      <td>0.006624</td>\n",
              "      <td>0.00652</td>\n",
              "      <td>0.000000</td>\n",
              "      <td>0.006457</td>\n",
              "      <td>0.010181</td>\n",
              "      <td>0.000000</td>\n",
              "      <td>0.051078</td>\n",
              "      <td>0.000000</td>\n",
              "      <td>0.00566</td>\n",
              "      <td>0.000000</td>\n",
              "      <td>0.000000</td>\n",
              "      <td>0.005335</td>\n",
              "      <td>0.007073</td>\n",
              "      <td>0.025819</td>\n",
              "      <td>0.000000</td>\n",
              "      <td>0.000000</td>\n",
              "      <td>0.000000</td>\n",
              "      <td>0.000000</td>\n",
              "      <td>0.000000</td>\n",
              "      <td>0.0</td>\n",
              "      <td>0.0</td>\n",
              "      <td>0.00681</td>\n",
              "      <td>...</td>\n",
              "      <td>0.000000</td>\n",
              "      <td>0.000000</td>\n",
              "      <td>0.024274</td>\n",
              "      <td>0.016506</td>\n",
              "      <td>0.00000</td>\n",
              "      <td>0.006098</td>\n",
              "      <td>0.01206</td>\n",
              "      <td>0.074233</td>\n",
              "      <td>0.000000</td>\n",
              "      <td>0.005842</td>\n",
              "      <td>0.0</td>\n",
              "      <td>0.008282</td>\n",
              "      <td>0.000000</td>\n",
              "      <td>0.0</td>\n",
              "      <td>0.000000</td>\n",
              "      <td>0.023623</td>\n",
              "      <td>0.028346</td>\n",
              "      <td>0.000000</td>\n",
              "      <td>0.010062</td>\n",
              "      <td>0.00000</td>\n",
              "      <td>0.006982</td>\n",
              "      <td>0.000000</td>\n",
              "      <td>0.000000</td>\n",
              "      <td>0.024702</td>\n",
              "      <td>0.000000</td>\n",
              "      <td>0.129631</td>\n",
              "      <td>0.000000</td>\n",
              "      <td>0.028801</td>\n",
              "      <td>0.011312</td>\n",
              "      <td>0.000000</td>\n",
              "      <td>0.005516</td>\n",
              "      <td>0.006515</td>\n",
              "      <td>0.006212</td>\n",
              "      <td>0.000000</td>\n",
              "      <td>0.0</td>\n",
              "      <td>0.04457</td>\n",
              "      <td>0.006538</td>\n",
              "      <td>0.0</td>\n",
              "      <td>0.062753</td>\n",
              "      <td>0.0</td>\n",
              "    </tr>\n",
              "    <tr>\n",
              "      <th>7</th>\n",
              "      <td>0.000000</td>\n",
              "      <td>0.000000</td>\n",
              "      <td>0.000000</td>\n",
              "      <td>0.000000</td>\n",
              "      <td>0.006541</td>\n",
              "      <td>0.0</td>\n",
              "      <td>0.000000</td>\n",
              "      <td>0.000000</td>\n",
              "      <td>0.000000</td>\n",
              "      <td>0.0</td>\n",
              "      <td>0.000000</td>\n",
              "      <td>0.000000</td>\n",
              "      <td>0.000000</td>\n",
              "      <td>0.008156</td>\n",
              "      <td>0.000000</td>\n",
              "      <td>0.000000</td>\n",
              "      <td>0.0</td>\n",
              "      <td>0.0</td>\n",
              "      <td>0.000000</td>\n",
              "      <td>0.00652</td>\n",
              "      <td>0.007313</td>\n",
              "      <td>0.006457</td>\n",
              "      <td>0.010181</td>\n",
              "      <td>0.008401</td>\n",
              "      <td>0.000000</td>\n",
              "      <td>0.000000</td>\n",
              "      <td>0.00566</td>\n",
              "      <td>0.005873</td>\n",
              "      <td>0.000000</td>\n",
              "      <td>0.000000</td>\n",
              "      <td>0.007073</td>\n",
              "      <td>0.000000</td>\n",
              "      <td>0.005788</td>\n",
              "      <td>0.006212</td>\n",
              "      <td>0.000000</td>\n",
              "      <td>0.017911</td>\n",
              "      <td>0.000000</td>\n",
              "      <td>0.0</td>\n",
              "      <td>0.0</td>\n",
              "      <td>0.00000</td>\n",
              "      <td>...</td>\n",
              "      <td>0.000000</td>\n",
              "      <td>0.000000</td>\n",
              "      <td>0.024274</td>\n",
              "      <td>0.000000</td>\n",
              "      <td>0.03107</td>\n",
              "      <td>0.000000</td>\n",
              "      <td>0.01206</td>\n",
              "      <td>0.000000</td>\n",
              "      <td>0.000000</td>\n",
              "      <td>0.000000</td>\n",
              "      <td>0.0</td>\n",
              "      <td>0.008282</td>\n",
              "      <td>0.015153</td>\n",
              "      <td>0.0</td>\n",
              "      <td>0.006147</td>\n",
              "      <td>0.023623</td>\n",
              "      <td>0.028346</td>\n",
              "      <td>0.006601</td>\n",
              "      <td>0.010062</td>\n",
              "      <td>0.00000</td>\n",
              "      <td>0.006982</td>\n",
              "      <td>0.000000</td>\n",
              "      <td>0.000000</td>\n",
              "      <td>0.024702</td>\n",
              "      <td>0.000000</td>\n",
              "      <td>0.129631</td>\n",
              "      <td>0.000000</td>\n",
              "      <td>0.028801</td>\n",
              "      <td>0.000000</td>\n",
              "      <td>0.000000</td>\n",
              "      <td>0.005516</td>\n",
              "      <td>0.000000</td>\n",
              "      <td>0.006212</td>\n",
              "      <td>0.000000</td>\n",
              "      <td>0.0</td>\n",
              "      <td>0.04457</td>\n",
              "      <td>0.006538</td>\n",
              "      <td>0.0</td>\n",
              "      <td>0.062753</td>\n",
              "      <td>0.0</td>\n",
              "    </tr>\n",
              "  </tbody>\n",
              "</table>\n",
              "<p>5 rows × 505 columns</p>\n",
              "</div>"
            ],
            "text/plain": [
              "             1422      169       1402      1401  ...      617   1542      675   267 \n",
              "user_id                                          ...                                \n",
              "405      0.136835  0.006778  0.000000  0.000000  ...  0.000000   0.0  0.062753   0.0\n",
              "234      0.000000  0.000000  0.000000  0.000000  ...  0.006538   0.0  0.062753   0.0\n",
              "450      0.000000  0.006778  0.006794  0.006404  ...  0.000000   0.0  0.000000   0.0\n",
              "13       0.000000  0.000000  0.000000  0.000000  ...  0.006538   0.0  0.062753   0.0\n",
              "7        0.000000  0.000000  0.000000  0.000000  ...  0.006538   0.0  0.062753   0.0\n",
              "\n",
              "[5 rows x 505 columns]"
            ]
          },
          "metadata": {
            "tags": []
          },
          "execution_count": 66
        }
      ]
    },
    {
      "cell_type": "markdown",
      "metadata": {
        "id": "oGN2ABEilyi3"
      },
      "source": [
        "For each user, I took the 10 best movies (according to the model) and built a dataframe with the required information. An example of the resulting recommendation is shown below:"
      ]
    },
    {
      "cell_type": "code",
      "metadata": {
        "id": "2lV6WoFxgoqM"
      },
      "source": [
        "# Getting the recommended movies\n",
        "pred_ratings_t = pred_ratings.transpose()\n",
        "users = pred_ratings_t.columns.tolist()\n",
        "recommendations = {}\n",
        "for u in users:\n",
        "  recommendations[u] = pred_ratings_t[[u]].sort_values(u, ascending = False).head(10).index.tolist()\n"
      ],
      "execution_count": 67,
      "outputs": []
    },
    {
      "cell_type": "code",
      "metadata": {
        "id": "OsIBUVTtADZK"
      },
      "source": [
        "recommendations_df = pd.DataFrame(columns =['user', 'movie_id', 'movie_title', 'pred_rating', 'actual_rating'])\n",
        "\n",
        "for u in users:\n",
        "  temp_df = pd.DataFrame(columns = ['user', 'movie_id', 'movie_title', 'pred_rating', 'actual_rating'])\n",
        "  \n",
        "  # Appending user id\n",
        "  temp_df['user'] = [u] * 10\n",
        "  \n",
        "  # Appending movie id\n",
        "  temp_df['movie_id'] = recommendations[u]\n",
        "  \n",
        "  # Appending movie titles, ratings\n",
        "  movie_titles = []\n",
        "  pred_rating = []\n",
        "  true_rating = []\n",
        "  for m in recommendations[u]:\n",
        "    movie_titles.append(item[item['item_id'] == m]['title'].values[0])    \n",
        "    pred_rating.append(pred_ratings.loc[u][m] * 5)\n",
        "    true_rating.append(actual_ratings.loc[u][m] * 5)\n",
        "    \n",
        "  temp_df['movie_title'] = movie_titles\n",
        "  temp_df['pred_rating'] = pred_rating\n",
        "  temp_df['actual_rating'] = true_rating\n",
        "  \n",
        "  # Appending to overall df\n",
        "  recommendations_df = recommendations_df.append(temp_df, ignore_index = True) \n",
        "  "
      ],
      "execution_count": 68,
      "outputs": []
    },
    {
      "cell_type": "code",
      "metadata": {
        "id": "0T-F6FmnAcYp",
        "colab": {
          "base_uri": "https://localhost:8080/",
          "height": 204
        },
        "outputId": "e9c8f930-b16b-4c24-ef82-be9cdfff8a54"
      },
      "source": [
        "recommendations_df.head(5)"
      ],
      "execution_count": 69,
      "outputs": [
        {
          "output_type": "execute_result",
          "data": {
            "text/html": [
              "<div>\n",
              "<style scoped>\n",
              "    .dataframe tbody tr th:only-of-type {\n",
              "        vertical-align: middle;\n",
              "    }\n",
              "\n",
              "    .dataframe tbody tr th {\n",
              "        vertical-align: top;\n",
              "    }\n",
              "\n",
              "    .dataframe thead th {\n",
              "        text-align: right;\n",
              "    }\n",
              "</style>\n",
              "<table border=\"1\" class=\"dataframe\">\n",
              "  <thead>\n",
              "    <tr style=\"text-align: right;\">\n",
              "      <th></th>\n",
              "      <th>user</th>\n",
              "      <th>movie_id</th>\n",
              "      <th>movie_title</th>\n",
              "      <th>pred_rating</th>\n",
              "      <th>actual_rating</th>\n",
              "    </tr>\n",
              "  </thead>\n",
              "  <tbody>\n",
              "    <tr>\n",
              "      <th>0</th>\n",
              "      <td>405</td>\n",
              "      <td>201</td>\n",
              "      <td>Evil Dead II (1987)</td>\n",
              "      <td>2.187047</td>\n",
              "      <td>1.0</td>\n",
              "    </tr>\n",
              "    <tr>\n",
              "      <th>1</th>\n",
              "      <td>405</td>\n",
              "      <td>673</td>\n",
              "      <td>Cape Fear (1962)</td>\n",
              "      <td>1.726695</td>\n",
              "      <td>5.0</td>\n",
              "    </tr>\n",
              "    <tr>\n",
              "      <th>2</th>\n",
              "      <td>405</td>\n",
              "      <td>712</td>\n",
              "      <td>Tin Men (1987)</td>\n",
              "      <td>1.616848</td>\n",
              "      <td>1.0</td>\n",
              "    </tr>\n",
              "    <tr>\n",
              "      <th>3</th>\n",
              "      <td>405</td>\n",
              "      <td>214</td>\n",
              "      <td>Pink Floyd - The Wall (1982)</td>\n",
              "      <td>1.558061</td>\n",
              "      <td>4.0</td>\n",
              "    </tr>\n",
              "    <tr>\n",
              "      <th>4</th>\n",
              "      <td>405</td>\n",
              "      <td>446</td>\n",
              "      <td>Burnt Offerings (1976)</td>\n",
              "      <td>1.297940</td>\n",
              "      <td>1.0</td>\n",
              "    </tr>\n",
              "  </tbody>\n",
              "</table>\n",
              "</div>"
            ],
            "text/plain": [
              "  user movie_id                   movie_title  pred_rating  actual_rating\n",
              "0  405      201           Evil Dead II (1987)     2.187047            1.0\n",
              "1  405      673              Cape Fear (1962)     1.726695            5.0\n",
              "2  405      712                Tin Men (1987)     1.616848            1.0\n",
              "3  405      214  Pink Floyd - The Wall (1982)     1.558061            4.0\n",
              "4  405      446        Burnt Offerings (1976)     1.297940            1.0"
            ]
          },
          "metadata": {
            "tags": []
          },
          "execution_count": 69
        }
      ]
    },
    {
      "cell_type": "markdown",
      "metadata": {
        "id": "X-rne40rl25D"
      },
      "source": [
        "As you can see, the simple autoencoder model was not good to predict the actual rating. The reason for that, as I understand, is that the loss function that Keras uses to train the model does not make distinction between the zero values and the movies that were actually rated."
      ]
    },
    {
      "cell_type": "markdown",
      "metadata": {
        "id": "4vMMxEahl5xx"
      },
      "source": [
        "Hence, the model does not properly pick the pattern from the users’ ratings (due to the zeros). For improvement, PyTorch can be used, since it gives you more flexibility to play with the loss functions."
      ]
    },
    {
      "cell_type": "code",
      "metadata": {
        "id": "Y5JyVzC6l5Fi"
      },
      "source": [
        ""
      ],
      "execution_count": 69,
      "outputs": []
    }
  ]
}
